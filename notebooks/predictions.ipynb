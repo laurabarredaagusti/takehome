{
 "cells": [
  {
   "cell_type": "code",
   "execution_count": 11,
   "metadata": {},
   "outputs": [],
   "source": [
    "import pickle\n",
    "import numeritos as nitos\n",
    "import sqlite3\n",
    "import pandas as pd\n",
    "import re"
   ]
  },
  {
   "cell_type": "code",
   "execution_count": 12,
   "metadata": {},
   "outputs": [],
   "source": [
    "connection = sqlite3.connect(\"../data/twitter.db\")\n",
    "crsr = connection.cursor()"
   ]
  },
  {
   "cell_type": "code",
   "execution_count": 13,
   "metadata": {},
   "outputs": [],
   "source": [
    "df_tweets = pd.read_sql('SELECT * FROM tweets', connection, parse_dates=['created_at'])\n",
    "df_users = pd.read_sql('SELECT * FROM users', connection)"
   ]
  },
  {
   "cell_type": "code",
   "execution_count": 14,
   "metadata": {},
   "outputs": [],
   "source": [
    "df_tweets['text'] = df_tweets['text'].apply(lambda x: nitos.clean_emoji(x))"
   ]
  },
  {
   "cell_type": "code",
   "execution_count": 15,
   "metadata": {},
   "outputs": [],
   "source": [
    "def process_string(text):\n",
    "    text = re.sub(r\"\\@\\w+[,]|\\@\\w+|[,]\\@\\w+\", \"\", text)\n",
    "    return text"
   ]
  },
  {
   "cell_type": "code",
   "execution_count": 16,
   "metadata": {},
   "outputs": [],
   "source": [
    "df_tweets['text'] = df_tweets['text'].apply(lambda x: process_string(x))"
   ]
  },
  {
   "cell_type": "code",
   "execution_count": 17,
   "metadata": {},
   "outputs": [],
   "source": [
    "path = '../model/sentiment_model'\n",
    "model = pickle.load(open(path,'rb'))"
   ]
  },
  {
   "cell_type": "code",
   "execution_count": 18,
   "metadata": {},
   "outputs": [
    {
     "data": {
      "text/plain": [
       "Pipeline(steps=[('vect',\n",
       "                 CountVectorizer(max_df=0.5, max_features=1000, min_df=5,\n",
       "                                 ngram_range=(1, 2))),\n",
       "                ('cls', LogisticRegression(C=0.5))])"
      ]
     },
     "execution_count": 18,
     "metadata": {},
     "output_type": "execute_result"
    }
   ],
   "source": [
    "model"
   ]
  },
  {
   "cell_type": "code",
   "execution_count": 21,
   "metadata": {},
   "outputs": [
    {
     "data": {
      "text/plain": [
       "1000"
      ]
     },
     "execution_count": 21,
     "metadata": {},
     "output_type": "execute_result"
    }
   ],
   "source": [
    "model[1].n_features_in_"
   ]
  },
  {
   "cell_type": "code",
   "execution_count": 22,
   "metadata": {},
   "outputs": [],
   "source": [
    "predict_df = df_tweets['text']"
   ]
  },
  {
   "cell_type": "code",
   "execution_count": 23,
   "metadata": {},
   "outputs": [],
   "source": [
    "predictions = model.predict(predict_df)"
   ]
  },
  {
   "cell_type": "code",
   "execution_count": 24,
   "metadata": {},
   "outputs": [],
   "source": [
    "df_tweets['sentiment'] = predictions"
   ]
  },
  {
   "cell_type": "code",
   "execution_count": 33,
   "metadata": {},
   "outputs": [
    {
     "data": {
      "text/html": [
       "<div>\n",
       "<style scoped>\n",
       "    .dataframe tbody tr th:only-of-type {\n",
       "        vertical-align: middle;\n",
       "    }\n",
       "\n",
       "    .dataframe tbody tr th {\n",
       "        vertical-align: top;\n",
       "    }\n",
       "\n",
       "    .dataframe thead th {\n",
       "        text-align: right;\n",
       "    }\n",
       "</style>\n",
       "<table border=\"1\" class=\"dataframe\">\n",
       "  <thead>\n",
       "    <tr style=\"text-align: right;\">\n",
       "      <th></th>\n",
       "      <th>id</th>\n",
       "      <th>text</th>\n",
       "      <th>author_id</th>\n",
       "      <th>created_at</th>\n",
       "      <th>retweet_count</th>\n",
       "      <th>reply_count</th>\n",
       "      <th>like_count</th>\n",
       "      <th>quote_count</th>\n",
       "      <th>sentiment</th>\n",
       "    </tr>\n",
       "  </thead>\n",
       "  <tbody>\n",
       "    <tr>\n",
       "      <th>0</th>\n",
       "      <td>1578613094191796224</td>\n",
       "      <td>Gente muy agradable en  , te ries mucho en el ...</td>\n",
       "      <td>1578095844569514011</td>\n",
       "      <td>2022-10-08 05:07:45</td>\n",
       "      <td>0</td>\n",
       "      <td>0</td>\n",
       "      <td>0</td>\n",
       "      <td>0</td>\n",
       "      <td>1</td>\n",
       "    </tr>\n",
       "    <tr>\n",
       "      <th>1</th>\n",
       "      <td>1577334577701453827</td>\n",
       "      <td>Recordaros que la semana que viene tenemos la ...</td>\n",
       "      <td>1003872445</td>\n",
       "      <td>2022-10-04 16:27:23</td>\n",
       "      <td>2</td>\n",
       "      <td>0</td>\n",
       "      <td>12</td>\n",
       "      <td>0</td>\n",
       "      <td>1</td>\n",
       "    </tr>\n",
       "    <tr>\n",
       "      <th>2</th>\n",
       "      <td>1576902991507922944</td>\n",
       "      <td>El desarrollador web es uno de los perfiles má...</td>\n",
       "      <td>2529499620</td>\n",
       "      <td>2022-10-03 11:52:25</td>\n",
       "      <td>3</td>\n",
       "      <td>0</td>\n",
       "      <td>3</td>\n",
       "      <td>0</td>\n",
       "      <td>1</td>\n",
       "    </tr>\n",
       "    <tr>\n",
       "      <th>3</th>\n",
       "      <td>1576856703349374976</td>\n",
       "      <td>Enhorabuena crack!</td>\n",
       "      <td>706520411551494145</td>\n",
       "      <td>2022-10-03 08:48:29</td>\n",
       "      <td>0</td>\n",
       "      <td>0</td>\n",
       "      <td>1</td>\n",
       "      <td>0</td>\n",
       "      <td>0</td>\n",
       "    </tr>\n",
       "    <tr>\n",
       "      <th>4</th>\n",
       "      <td>1575217357105946624</td>\n",
       "      <td>Hoy por fin ve la luz mi primer Case Study púb...</td>\n",
       "      <td>604485175</td>\n",
       "      <td>2022-09-28 20:14:18</td>\n",
       "      <td>3</td>\n",
       "      <td>0</td>\n",
       "      <td>4</td>\n",
       "      <td>0</td>\n",
       "      <td>0</td>\n",
       "    </tr>\n",
       "    <tr>\n",
       "      <th>...</th>\n",
       "      <td>...</td>\n",
       "      <td>...</td>\n",
       "      <td>...</td>\n",
       "      <td>...</td>\n",
       "      <td>...</td>\n",
       "      <td>...</td>\n",
       "      <td>...</td>\n",
       "      <td>...</td>\n",
       "      <td>...</td>\n",
       "    </tr>\n",
       "    <tr>\n",
       "      <th>149</th>\n",
       "      <td>1536313018321190912</td>\n",
       "      <td>Lo conseguí!!! Gracias    https://t.co/SOccLkT3dG</td>\n",
       "      <td>18955785</td>\n",
       "      <td>2022-06-13 11:42:21</td>\n",
       "      <td>0</td>\n",
       "      <td>0</td>\n",
       "      <td>1</td>\n",
       "      <td>0</td>\n",
       "      <td>0</td>\n",
       "    </tr>\n",
       "    <tr>\n",
       "      <th>150</th>\n",
       "      <td>1536311923423203331</td>\n",
       "      <td>¡Y yo! Que buena forma de empezar la semana.</td>\n",
       "      <td>15521945</td>\n",
       "      <td>2022-06-13 11:38:00</td>\n",
       "      <td>0</td>\n",
       "      <td>0</td>\n",
       "      <td>1</td>\n",
       "      <td>0</td>\n",
       "      <td>1</td>\n",
       "    </tr>\n",
       "    <tr>\n",
       "      <th>151</th>\n",
       "      <td>1536310998319210496</td>\n",
       "      <td>¡La tengo!</td>\n",
       "      <td>10614452</td>\n",
       "      <td>2022-06-13 11:34:19</td>\n",
       "      <td>0</td>\n",
       "      <td>0</td>\n",
       "      <td>2</td>\n",
       "      <td>0</td>\n",
       "      <td>1</td>\n",
       "    </tr>\n",
       "    <tr>\n",
       "      <th>152</th>\n",
       "      <td>1536310702876549123</td>\n",
       "      <td>Lo prometimos y han llegado gracias a  ... últ...</td>\n",
       "      <td>1255794072280842240</td>\n",
       "      <td>2022-06-13 11:33:09</td>\n",
       "      <td>2</td>\n",
       "      <td>4</td>\n",
       "      <td>6</td>\n",
       "      <td>0</td>\n",
       "      <td>0</td>\n",
       "    </tr>\n",
       "    <tr>\n",
       "      <th>153</th>\n",
       "      <td>1536267654717132801</td>\n",
       "      <td>Inocente de mi, que lo daba por hecho...</td>\n",
       "      <td>1434890317640126469</td>\n",
       "      <td>2022-06-13 08:42:06</td>\n",
       "      <td>0</td>\n",
       "      <td>0</td>\n",
       "      <td>2</td>\n",
       "      <td>0</td>\n",
       "      <td>0</td>\n",
       "    </tr>\n",
       "  </tbody>\n",
       "</table>\n",
       "<p>154 rows × 9 columns</p>\n",
       "</div>"
      ],
      "text/plain": [
       "                      id                                               text  \\\n",
       "0    1578613094191796224  Gente muy agradable en  , te ries mucho en el ...   \n",
       "1    1577334577701453827  Recordaros que la semana que viene tenemos la ...   \n",
       "2    1576902991507922944  El desarrollador web es uno de los perfiles má...   \n",
       "3    1576856703349374976                                 Enhorabuena crack!   \n",
       "4    1575217357105946624  Hoy por fin ve la luz mi primer Case Study púb...   \n",
       "..                   ...                                                ...   \n",
       "149  1536313018321190912  Lo conseguí!!! Gracias    https://t.co/SOccLkT3dG   \n",
       "150  1536311923423203331       ¡Y yo! Que buena forma de empezar la semana.   \n",
       "151  1536310998319210496                                         ¡La tengo!   \n",
       "152  1536310702876549123  Lo prometimos y han llegado gracias a  ... últ...   \n",
       "153  1536267654717132801           Inocente de mi, que lo daba por hecho...   \n",
       "\n",
       "               author_id          created_at  retweet_count  reply_count  \\\n",
       "0    1578095844569514011 2022-10-08 05:07:45              0            0   \n",
       "1             1003872445 2022-10-04 16:27:23              2            0   \n",
       "2             2529499620 2022-10-03 11:52:25              3            0   \n",
       "3     706520411551494145 2022-10-03 08:48:29              0            0   \n",
       "4              604485175 2022-09-28 20:14:18              3            0   \n",
       "..                   ...                 ...            ...          ...   \n",
       "149             18955785 2022-06-13 11:42:21              0            0   \n",
       "150             15521945 2022-06-13 11:38:00              0            0   \n",
       "151             10614452 2022-06-13 11:34:19              0            0   \n",
       "152  1255794072280842240 2022-06-13 11:33:09              2            4   \n",
       "153  1434890317640126469 2022-06-13 08:42:06              0            0   \n",
       "\n",
       "     like_count  quote_count  sentiment  \n",
       "0             0            0          1  \n",
       "1            12            0          1  \n",
       "2             3            0          1  \n",
       "3             1            0          0  \n",
       "4             4            0          0  \n",
       "..          ...          ...        ...  \n",
       "149           1            0          0  \n",
       "150           1            0          1  \n",
       "151           2            0          1  \n",
       "152           6            0          0  \n",
       "153           2            0          0  \n",
       "\n",
       "[154 rows x 9 columns]"
      ]
     },
     "execution_count": 33,
     "metadata": {},
     "output_type": "execute_result"
    }
   ],
   "source": [
    "df_tweets"
   ]
  }
 ],
 "metadata": {
  "kernelspec": {
   "display_name": "Python 3.7.4 64-bit",
   "language": "python",
   "name": "python3"
  },
  "language_info": {
   "codemirror_mode": {
    "name": "ipython",
    "version": 3
   },
   "file_extension": ".py",
   "mimetype": "text/x-python",
   "name": "python",
   "nbconvert_exporter": "python",
   "pygments_lexer": "ipython3",
   "version": "3.7.4"
  },
  "orig_nbformat": 4,
  "vscode": {
   "interpreter": {
    "hash": "aee8b7b246df8f9039afb4144a1f6fd8d2ca17a180786b69acc140d282b71a49"
   }
  }
 },
 "nbformat": 4,
 "nbformat_minor": 2
}
