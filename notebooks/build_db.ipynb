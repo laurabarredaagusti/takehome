{
 "cells": [
  {
   "cell_type": "code",
   "execution_count": 36,
   "metadata": {},
   "outputs": [],
   "source": [
    "import pandas as pd\n",
    "import json\n",
    "import sqlite3\n",
    "import os"
   ]
  },
  {
   "cell_type": "code",
   "execution_count": 37,
   "metadata": {},
   "outputs": [],
   "source": [
    "files = ['../data/data1.json', '../data/data2.json']"
   ]
  },
  {
   "cell_type": "code",
   "execution_count": 38,
   "metadata": {},
   "outputs": [],
   "source": [
    "def open_json(file):\n",
    "    with open(file) as f:\n",
    "        data = json.load(f)\n",
    "    return data"
   ]
  },
  {
   "cell_type": "code",
   "execution_count": 39,
   "metadata": {},
   "outputs": [],
   "source": [
    "def df_from_json(data):\n",
    "    df = pd.DataFrame(data)\n",
    "    return df"
   ]
  },
  {
   "cell_type": "code",
   "execution_count": 40,
   "metadata": {},
   "outputs": [],
   "source": [
    "data = open_json('../data/data1.json')"
   ]
  },
  {
   "cell_type": "code",
   "execution_count": 44,
   "metadata": {},
   "outputs": [],
   "source": [
    "tweet_data = data['data']"
   ]
  },
  {
   "cell_type": "code",
   "execution_count": 57,
   "metadata": {},
   "outputs": [],
   "source": [
    "author_data = data['includes']['users']"
   ]
  },
  {
   "cell_type": "code",
   "execution_count": 58,
   "metadata": {},
   "outputs": [],
   "source": [
    "df_tweet = df_from_json(tweet_data)\n",
    "df_author = df_from_json(author_data)"
   ]
  },
  {
   "cell_type": "code",
   "execution_count": 60,
   "metadata": {},
   "outputs": [
    {
     "data": {
      "text/html": [
       "<div>\n",
       "<style scoped>\n",
       "    .dataframe tbody tr th:only-of-type {\n",
       "        vertical-align: middle;\n",
       "    }\n",
       "\n",
       "    .dataframe tbody tr th {\n",
       "        vertical-align: top;\n",
       "    }\n",
       "\n",
       "    .dataframe thead th {\n",
       "        text-align: right;\n",
       "    }\n",
       "</style>\n",
       "<table border=\"1\" class=\"dataframe\">\n",
       "  <thead>\n",
       "    <tr style=\"text-align: right;\">\n",
       "      <th></th>\n",
       "      <th>text</th>\n",
       "      <th>author_id</th>\n",
       "      <th>public_metrics</th>\n",
       "      <th>edit_history_tweet_ids</th>\n",
       "      <th>id</th>\n",
       "      <th>created_at</th>\n",
       "    </tr>\n",
       "  </thead>\n",
       "  <tbody>\n",
       "    <tr>\n",
       "      <th>0</th>\n",
       "      <td>Gente muy agradable en @TheBridge_Tech , te ri...</td>\n",
       "      <td>1578095844569514011</td>\n",
       "      <td>{'retweet_count': 0, 'reply_count': 0, 'like_c...</td>\n",
       "      <td>[1578613094191796224]</td>\n",
       "      <td>1578613094191796224</td>\n",
       "      <td>2022-10-08T05:07:45.000Z</td>\n",
       "    </tr>\n",
       "    <tr>\n",
       "      <th>1</th>\n",
       "      <td>Recordaros que la semana que viene tenemos la ...</td>\n",
       "      <td>1003872445</td>\n",
       "      <td>{'retweet_count': 2, 'reply_count': 0, 'like_c...</td>\n",
       "      <td>[1577334577701453827]</td>\n",
       "      <td>1577334577701453827</td>\n",
       "      <td>2022-10-04T16:27:23.000Z</td>\n",
       "    </tr>\n",
       "    <tr>\n",
       "      <th>2</th>\n",
       "      <td>El desarrollador web es uno de los perfiles má...</td>\n",
       "      <td>2529499620</td>\n",
       "      <td>{'retweet_count': 3, 'reply_count': 0, 'like_c...</td>\n",
       "      <td>[1576902991507922944]</td>\n",
       "      <td>1576902991507922944</td>\n",
       "      <td>2022-10-03T11:52:25.000Z</td>\n",
       "    </tr>\n",
       "    <tr>\n",
       "      <th>3</th>\n",
       "      <td>@jorgegrev @TheBridge_Tech Enhorabuena crack!</td>\n",
       "      <td>706520411551494145</td>\n",
       "      <td>{'retweet_count': 0, 'reply_count': 0, 'like_c...</td>\n",
       "      <td>[1576856703349374976]</td>\n",
       "      <td>1576856703349374976</td>\n",
       "      <td>2022-10-03T08:48:29.000Z</td>\n",
       "    </tr>\n",
       "    <tr>\n",
       "      <th>4</th>\n",
       "      <td>Hoy por fin ve la luz mi primer Case Study púb...</td>\n",
       "      <td>604485175</td>\n",
       "      <td>{'retweet_count': 3, 'reply_count': 0, 'like_c...</td>\n",
       "      <td>[1575217357105946624]</td>\n",
       "      <td>1575217357105946624</td>\n",
       "      <td>2022-09-28T20:14:18.000Z</td>\n",
       "    </tr>\n",
       "  </tbody>\n",
       "</table>\n",
       "</div>"
      ],
      "text/plain": [
       "                                                text            author_id  \\\n",
       "0  Gente muy agradable en @TheBridge_Tech , te ri...  1578095844569514011   \n",
       "1  Recordaros que la semana que viene tenemos la ...           1003872445   \n",
       "2  El desarrollador web es uno de los perfiles má...           2529499620   \n",
       "3      @jorgegrev @TheBridge_Tech Enhorabuena crack!   706520411551494145   \n",
       "4  Hoy por fin ve la luz mi primer Case Study púb...            604485175   \n",
       "\n",
       "                                      public_metrics edit_history_tweet_ids  \\\n",
       "0  {'retweet_count': 0, 'reply_count': 0, 'like_c...  [1578613094191796224]   \n",
       "1  {'retweet_count': 2, 'reply_count': 0, 'like_c...  [1577334577701453827]   \n",
       "2  {'retweet_count': 3, 'reply_count': 0, 'like_c...  [1576902991507922944]   \n",
       "3  {'retweet_count': 0, 'reply_count': 0, 'like_c...  [1576856703349374976]   \n",
       "4  {'retweet_count': 3, 'reply_count': 0, 'like_c...  [1575217357105946624]   \n",
       "\n",
       "                    id                created_at  \n",
       "0  1578613094191796224  2022-10-08T05:07:45.000Z  \n",
       "1  1577334577701453827  2022-10-04T16:27:23.000Z  \n",
       "2  1576902991507922944  2022-10-03T11:52:25.000Z  \n",
       "3  1576856703349374976  2022-10-03T08:48:29.000Z  \n",
       "4  1575217357105946624  2022-09-28T20:14:18.000Z  "
      ]
     },
     "execution_count": 60,
     "metadata": {},
     "output_type": "execute_result"
    }
   ],
   "source": [
    "df_tweet.head()"
   ]
  },
  {
   "cell_type": "code",
   "execution_count": null,
   "metadata": {},
   "outputs": [],
   "source": [
    "for file in files:\n",
    "    data = open_json(file)\n",
    "    df = df_from_json(data)"
   ]
  }
 ],
 "metadata": {
  "kernelspec": {
   "display_name": "Python 3.7.4 64-bit",
   "language": "python",
   "name": "python3"
  },
  "language_info": {
   "codemirror_mode": {
    "name": "ipython",
    "version": 3
   },
   "file_extension": ".py",
   "mimetype": "text/x-python",
   "name": "python",
   "nbconvert_exporter": "python",
   "pygments_lexer": "ipython3",
   "version": "3.7.4"
  },
  "orig_nbformat": 4,
  "vscode": {
   "interpreter": {
    "hash": "aee8b7b246df8f9039afb4144a1f6fd8d2ca17a180786b69acc140d282b71a49"
   }
  }
 },
 "nbformat": 4,
 "nbformat_minor": 2
}
