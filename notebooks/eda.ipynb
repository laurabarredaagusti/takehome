{
 "cells": [
  {
   "cell_type": "code",
   "execution_count": 168,
   "metadata": {},
   "outputs": [],
   "source": [
    "import sqlite3\n",
    "import pandas as pd"
   ]
  },
  {
   "cell_type": "code",
   "execution_count": 169,
   "metadata": {},
   "outputs": [],
   "source": [
    "connection = sqlite3.connect(\"../data/twitter.db\")\n",
    "crsr = connection.cursor()"
   ]
  },
  {
   "cell_type": "code",
   "execution_count": 170,
   "metadata": {},
   "outputs": [],
   "source": [
    "df_tweets = pd.read_sql('SELECT * FROM tweets', connection, parse_dates=['created_at'])\n",
    "df_users = pd.read_sql('SELECT * FROM users', connection)"
   ]
  },
  {
   "cell_type": "code",
   "execution_count": 171,
   "metadata": {},
   "outputs": [
    {
     "data": {
      "text/html": [
       "<div>\n",
       "<style scoped>\n",
       "    .dataframe tbody tr th:only-of-type {\n",
       "        vertical-align: middle;\n",
       "    }\n",
       "\n",
       "    .dataframe tbody tr th {\n",
       "        vertical-align: top;\n",
       "    }\n",
       "\n",
       "    .dataframe thead th {\n",
       "        text-align: right;\n",
       "    }\n",
       "</style>\n",
       "<table border=\"1\" class=\"dataframe\">\n",
       "  <thead>\n",
       "    <tr style=\"text-align: right;\">\n",
       "      <th></th>\n",
       "      <th>id</th>\n",
       "      <th>text</th>\n",
       "      <th>author_id</th>\n",
       "      <th>created_at</th>\n",
       "      <th>retweet_count</th>\n",
       "      <th>reply_count</th>\n",
       "      <th>like_count</th>\n",
       "      <th>quote_count</th>\n",
       "    </tr>\n",
       "  </thead>\n",
       "  <tbody>\n",
       "    <tr>\n",
       "      <th>0</th>\n",
       "      <td>1578613094191796224</td>\n",
       "      <td>Gente muy agradable en @TheBridge_Tech , te ri...</td>\n",
       "      <td>1578095844569514011</td>\n",
       "      <td>2022-10-08 05:07:45</td>\n",
       "      <td>0</td>\n",
       "      <td>0</td>\n",
       "      <td>0</td>\n",
       "      <td>0</td>\n",
       "    </tr>\n",
       "    <tr>\n",
       "      <th>1</th>\n",
       "      <td>1577334577701453827</td>\n",
       "      <td>Recordaros que la semana que viene tenemos la ...</td>\n",
       "      <td>1003872445</td>\n",
       "      <td>2022-10-04 16:27:23</td>\n",
       "      <td>2</td>\n",
       "      <td>0</td>\n",
       "      <td>12</td>\n",
       "      <td>0</td>\n",
       "    </tr>\n",
       "    <tr>\n",
       "      <th>2</th>\n",
       "      <td>1576902991507922944</td>\n",
       "      <td>El desarrollador web es uno de los perfiles má...</td>\n",
       "      <td>2529499620</td>\n",
       "      <td>2022-10-03 11:52:25</td>\n",
       "      <td>3</td>\n",
       "      <td>0</td>\n",
       "      <td>3</td>\n",
       "      <td>0</td>\n",
       "    </tr>\n",
       "    <tr>\n",
       "      <th>3</th>\n",
       "      <td>1576856703349374976</td>\n",
       "      <td>@jorgegrev @TheBridge_Tech Enhorabuena crack!</td>\n",
       "      <td>706520411551494145</td>\n",
       "      <td>2022-10-03 08:48:29</td>\n",
       "      <td>0</td>\n",
       "      <td>0</td>\n",
       "      <td>1</td>\n",
       "      <td>0</td>\n",
       "    </tr>\n",
       "    <tr>\n",
       "      <th>4</th>\n",
       "      <td>1575217357105946624</td>\n",
       "      <td>Hoy por fin ve la luz mi primer Case Study púb...</td>\n",
       "      <td>604485175</td>\n",
       "      <td>2022-09-28 20:14:18</td>\n",
       "      <td>3</td>\n",
       "      <td>0</td>\n",
       "      <td>4</td>\n",
       "      <td>0</td>\n",
       "    </tr>\n",
       "  </tbody>\n",
       "</table>\n",
       "</div>"
      ],
      "text/plain": [
       "                    id                                               text  \\\n",
       "0  1578613094191796224  Gente muy agradable en @TheBridge_Tech , te ri...   \n",
       "1  1577334577701453827  Recordaros que la semana que viene tenemos la ...   \n",
       "2  1576902991507922944  El desarrollador web es uno de los perfiles má...   \n",
       "3  1576856703349374976      @jorgegrev @TheBridge_Tech Enhorabuena crack!   \n",
       "4  1575217357105946624  Hoy por fin ve la luz mi primer Case Study púb...   \n",
       "\n",
       "             author_id          created_at  retweet_count  reply_count  \\\n",
       "0  1578095844569514011 2022-10-08 05:07:45              0            0   \n",
       "1           1003872445 2022-10-04 16:27:23              2            0   \n",
       "2           2529499620 2022-10-03 11:52:25              3            0   \n",
       "3   706520411551494145 2022-10-03 08:48:29              0            0   \n",
       "4            604485175 2022-09-28 20:14:18              3            0   \n",
       "\n",
       "   like_count  quote_count  \n",
       "0           0            0  \n",
       "1          12            0  \n",
       "2           3            0  \n",
       "3           1            0  \n",
       "4           4            0  "
      ]
     },
     "execution_count": 171,
     "metadata": {},
     "output_type": "execute_result"
    }
   ],
   "source": [
    "df_tweets.head()"
   ]
  },
  {
   "cell_type": "code",
   "execution_count": 172,
   "metadata": {},
   "outputs": [
    {
     "name": "stdout",
     "output_type": "stream",
     "text": [
      "<class 'pandas.core.frame.DataFrame'>\n",
      "RangeIndex: 154 entries, 0 to 153\n",
      "Data columns (total 8 columns):\n",
      " #   Column         Non-Null Count  Dtype         \n",
      "---  ------         --------------  -----         \n",
      " 0   id             154 non-null    object        \n",
      " 1   text           154 non-null    object        \n",
      " 2   author_id      154 non-null    object        \n",
      " 3   created_at     154 non-null    datetime64[ns]\n",
      " 4   retweet_count  154 non-null    int64         \n",
      " 5   reply_count    154 non-null    int64         \n",
      " 6   like_count     154 non-null    int64         \n",
      " 7   quote_count    154 non-null    int64         \n",
      "dtypes: datetime64[ns](1), int64(4), object(3)\n",
      "memory usage: 9.8+ KB\n"
     ]
    }
   ],
   "source": [
    "df_tweets.info()"
   ]
  },
  {
   "cell_type": "code",
   "execution_count": 173,
   "metadata": {},
   "outputs": [
    {
     "data": {
      "text/html": [
       "<div>\n",
       "<style scoped>\n",
       "    .dataframe tbody tr th:only-of-type {\n",
       "        vertical-align: middle;\n",
       "    }\n",
       "\n",
       "    .dataframe tbody tr th {\n",
       "        vertical-align: top;\n",
       "    }\n",
       "\n",
       "    .dataframe thead th {\n",
       "        text-align: right;\n",
       "    }\n",
       "</style>\n",
       "<table border=\"1\" class=\"dataframe\">\n",
       "  <thead>\n",
       "    <tr style=\"text-align: right;\">\n",
       "      <th></th>\n",
       "      <th>id</th>\n",
       "      <th>name</th>\n",
       "      <th>username</th>\n",
       "    </tr>\n",
       "  </thead>\n",
       "  <tbody>\n",
       "    <tr>\n",
       "      <th>0</th>\n",
       "      <td>1578095844569514011</td>\n",
       "      <td>Rocket</td>\n",
       "      <td>75_Rocket_</td>\n",
       "    </tr>\n",
       "    <tr>\n",
       "      <th>1</th>\n",
       "      <td>1003872445</td>\n",
       "      <td>Pau Mugarra</td>\n",
       "      <td>PauMugarra</td>\n",
       "    </tr>\n",
       "    <tr>\n",
       "      <th>2</th>\n",
       "      <td>2529499620</td>\n",
       "      <td>Formación Fundación Universidad Carlos III</td>\n",
       "      <td>formacion_fuc3</td>\n",
       "    </tr>\n",
       "    <tr>\n",
       "      <th>3</th>\n",
       "      <td>706520411551494145</td>\n",
       "      <td>JoseSola</td>\n",
       "      <td>Jose_Sola_</td>\n",
       "    </tr>\n",
       "    <tr>\n",
       "      <th>4</th>\n",
       "      <td>604485175</td>\n",
       "      <td>Berta Otero</td>\n",
       "      <td>bertinha84</td>\n",
       "    </tr>\n",
       "  </tbody>\n",
       "</table>\n",
       "</div>"
      ],
      "text/plain": [
       "                    id                                        name  \\\n",
       "0  1578095844569514011                                      Rocket   \n",
       "1           1003872445                                 Pau Mugarra   \n",
       "2           2529499620  Formación Fundación Universidad Carlos III   \n",
       "3   706520411551494145                                    JoseSola   \n",
       "4            604485175                                 Berta Otero   \n",
       "\n",
       "         username  \n",
       "0      75_Rocket_  \n",
       "1      PauMugarra  \n",
       "2  formacion_fuc3  \n",
       "3      Jose_Sola_  \n",
       "4      bertinha84  "
      ]
     },
     "execution_count": 173,
     "metadata": {},
     "output_type": "execute_result"
    }
   ],
   "source": [
    "df_users.head()"
   ]
  },
  {
   "cell_type": "code",
   "execution_count": 174,
   "metadata": {},
   "outputs": [
    {
     "name": "stdout",
     "output_type": "stream",
     "text": [
      "<class 'pandas.core.frame.DataFrame'>\n",
      "RangeIndex: 82 entries, 0 to 81\n",
      "Data columns (total 3 columns):\n",
      " #   Column    Non-Null Count  Dtype \n",
      "---  ------    --------------  ----- \n",
      " 0   id        82 non-null     object\n",
      " 1   name      82 non-null     object\n",
      " 2   username  82 non-null     object\n",
      "dtypes: object(3)\n",
      "memory usage: 2.0+ KB\n"
     ]
    }
   ],
   "source": [
    "df_users.info()"
   ]
  },
  {
   "cell_type": "code",
   "execution_count": 175,
   "metadata": {},
   "outputs": [
    {
     "name": "stdout",
     "output_type": "stream",
     "text": [
      "The Bridge school has been mentioned a total of 154 times since 13th of June.\n"
     ]
    }
   ],
   "source": [
    "print('The Bridge school has been mentioned a total of ' + str(len(df_tweets)) + ' times since 13th of June.')"
   ]
  },
  {
   "cell_type": "code",
   "execution_count": 176,
   "metadata": {},
   "outputs": [
    {
     "name": "stdout",
     "output_type": "stream",
     "text": [
      "6    Y seguimos con lo prometido:  Primera quedada ...\n",
      "Name: text, dtype: object\n"
     ]
    }
   ],
   "source": [
    "# The column social_repercussion contains the sum of the 4 metrics columns\n",
    "df_tweets['social_repercussion'] = df_tweets['retweet_count'] + df_tweets['reply_count'] + df_tweets['like_count'] + df_tweets['quote_count']\n",
    "\n",
    "print(df_tweets[df_tweets['social_repercussion']==df_tweets['social_repercussion'].max()]['text'])"
   ]
  },
  {
   "cell_type": "code",
   "execution_count": 164,
   "metadata": {},
   "outputs": [],
   "source": [
    "# Author with most tweets\n",
    "most_repeated_user = df_tweets['author_id'].value_counts().idxmax()\n",
    "\n",
    "# Times this author posted\n",
    "times_user_repeated = df_tweets['author_id'].value_counts()[most_repeated_user]"
   ]
  },
  {
   "cell_type": "code",
   "execution_count": 165,
   "metadata": {},
   "outputs": [
    {
     "data": {
      "text/html": [
       "<div>\n",
       "<style scoped>\n",
       "    .dataframe tbody tr th:only-of-type {\n",
       "        vertical-align: middle;\n",
       "    }\n",
       "\n",
       "    .dataframe tbody tr th {\n",
       "        vertical-align: top;\n",
       "    }\n",
       "\n",
       "    .dataframe thead th {\n",
       "        text-align: right;\n",
       "    }\n",
       "</style>\n",
       "<table border=\"1\" class=\"dataframe\">\n",
       "  <thead>\n",
       "    <tr style=\"text-align: right;\">\n",
       "      <th></th>\n",
       "      <th>id</th>\n",
       "      <th>name</th>\n",
       "      <th>username</th>\n",
       "    </tr>\n",
       "  </thead>\n",
       "  <tbody>\n",
       "    <tr>\n",
       "      <th>48</th>\n",
       "      <td>1255794072280842240</td>\n",
       "      <td>Heavy Mental</td>\n",
       "      <td>HeavyMental_es</td>\n",
       "    </tr>\n",
       "  </tbody>\n",
       "</table>\n",
       "</div>"
      ],
      "text/plain": [
       "                     id          name        username\n",
       "48  1255794072280842240  Heavy Mental  HeavyMental_es"
      ]
     },
     "execution_count": 165,
     "metadata": {},
     "output_type": "execute_result"
    }
   ],
   "source": [
    "# Row which contains author information\n",
    "df_users[df_users['id'] == most_repeated_user]"
   ]
  },
  {
   "cell_type": "code",
   "execution_count": 180,
   "metadata": {},
   "outputs": [
    {
     "name": "stdout",
     "output_type": "stream",
     "text": [
      "48    The user Heavy Mental mentioned us 12 times.\n",
      "Name: name, dtype: object\n"
     ]
    }
   ],
   "source": [
    "# Name of author with most posts\n",
    "most_repeated_user_name = df_users[df_users['id'] == most_repeated_user]['name']\n",
    "\n",
    "\n",
    "print('The user ' + most_repeated_user_name + ' mentioned us ' + str(times_user_repeated) + ' times.')"
   ]
  },
  {
   "cell_type": "code",
   "execution_count": 27,
   "metadata": {},
   "outputs": [],
   "source": [
    "import seaborn as sns"
   ]
  },
  {
   "cell_type": "code",
   "execution_count": 30,
   "metadata": {},
   "outputs": [
    {
     "data": {
      "text/plain": [
       "<AxesSubplot:>"
      ]
     },
     "execution_count": 30,
     "metadata": {},
     "output_type": "execute_result"
    },
    {
     "data": {
      "image/png": "[encoded data removed]",
      "text/plain": [
       "<Figure size 432x288 with 2 Axes>"
      ]
     },
     "metadata": {
      "needs_background": "light"
     },
     "output_type": "display_data"
    }
   ],
   "source": [
    "sns.heatmap(df_tweets.corr(), annot=True)"
   ]
  },
  {
   "cell_type": "code",
   "execution_count": null,
   "metadata": {},
   "outputs": [],
   "source": [
    "def sql_query(query):\n",
    "\n",
    "    # Ejecuta la query\n",
    "    crsr.execute(query)\n",
    "\n",
    "    # Almacena los datos de la query \n",
    "    ans = crsr.fetchall()\n",
    "\n",
    "    # Obtenemos los nombres de las columnas de la tabla\n",
    "    names = [description[0] for description in crsr.description]\n",
    "\n",
    "    return pd.DataFrame(ans,columns=names)"
   ]
  }
 ],
 "metadata": {
  "kernelspec": {
   "display_name": "Python 3.7.4 64-bit",
   "language": "python",
   "name": "python3"
  },
  "language_info": {
   "codemirror_mode": {
    "name": "ipython",
    "version": 3
   },
   "file_extension": ".py",
   "mimetype": "text/x-python",
   "name": "python",
   "nbconvert_exporter": "python",
   "pygments_lexer": "ipython3",
   "version": "3.7.4"
  },
  "orig_nbformat": 4,
  "vscode": {
   "interpreter": {
    "hash": "aee8b7b246df8f9039afb4144a1f6fd8d2ca17a180786b69acc140d282b71a49"
   }
  }
 },
 "nbformat": 4,
 "nbformat_minor": 2
}
