{
 "cells": [
  {
   "cell_type": "code",
   "execution_count": 481,
   "metadata": {},
   "outputs": [],
   "source": [
    "import sqlite3\n",
    "import pandas as pd\n",
    "import datetime\n",
    "import re\n",
    "from collections import Counter\n",
    "import seaborn as sns"
   ]
  },
  {
   "cell_type": "code",
   "execution_count": 425,
   "metadata": {},
   "outputs": [],
   "source": [
    "connection = sqlite3.connect(\"../data/twitter.db\")\n",
    "crsr = connection.cursor()"
   ]
  },
  {
   "cell_type": "code",
   "execution_count": 426,
   "metadata": {},
   "outputs": [],
   "source": [
    "df_tweets = pd.read_sql('SELECT * FROM tweets', connection, parse_dates=['created_at'])\n",
    "df_users = pd.read_sql('SELECT * FROM users', connection)"
   ]
  },
  {
   "cell_type": "code",
   "execution_count": 427,
   "metadata": {},
   "outputs": [
    {
     "data": {
      "text/html": [
       "<div>\n",
       "<style scoped>\n",
       "    .dataframe tbody tr th:only-of-type {\n",
       "        vertical-align: middle;\n",
       "    }\n",
       "\n",
       "    .dataframe tbody tr th {\n",
       "        vertical-align: top;\n",
       "    }\n",
       "\n",
       "    .dataframe thead th {\n",
       "        text-align: right;\n",
       "    }\n",
       "</style>\n",
       "<table border=\"1\" class=\"dataframe\">\n",
       "  <thead>\n",
       "    <tr style=\"text-align: right;\">\n",
       "      <th></th>\n",
       "      <th>id</th>\n",
       "      <th>text</th>\n",
       "      <th>author_id</th>\n",
       "      <th>created_at</th>\n",
       "      <th>retweet_count</th>\n",
       "      <th>reply_count</th>\n",
       "      <th>like_count</th>\n",
       "      <th>quote_count</th>\n",
       "    </tr>\n",
       "  </thead>\n",
       "  <tbody>\n",
       "    <tr>\n",
       "      <th>0</th>\n",
       "      <td>1578613094191796224</td>\n",
       "      <td>Gente muy agradable en @TheBridge_Tech , te ri...</td>\n",
       "      <td>1578095844569514011</td>\n",
       "      <td>2022-10-08 05:07:45</td>\n",
       "      <td>0</td>\n",
       "      <td>0</td>\n",
       "      <td>0</td>\n",
       "      <td>0</td>\n",
       "    </tr>\n",
       "    <tr>\n",
       "      <th>1</th>\n",
       "      <td>1577334577701453827</td>\n",
       "      <td>Recordaros que la semana que viene tenemos la ...</td>\n",
       "      <td>1003872445</td>\n",
       "      <td>2022-10-04 16:27:23</td>\n",
       "      <td>2</td>\n",
       "      <td>0</td>\n",
       "      <td>12</td>\n",
       "      <td>0</td>\n",
       "    </tr>\n",
       "    <tr>\n",
       "      <th>2</th>\n",
       "      <td>1576902991507922944</td>\n",
       "      <td>El desarrollador web es uno de los perfiles má...</td>\n",
       "      <td>2529499620</td>\n",
       "      <td>2022-10-03 11:52:25</td>\n",
       "      <td>3</td>\n",
       "      <td>0</td>\n",
       "      <td>3</td>\n",
       "      <td>0</td>\n",
       "    </tr>\n",
       "    <tr>\n",
       "      <th>3</th>\n",
       "      <td>1576856703349374976</td>\n",
       "      <td>@jorgegrev @TheBridge_Tech Enhorabuena crack!</td>\n",
       "      <td>706520411551494145</td>\n",
       "      <td>2022-10-03 08:48:29</td>\n",
       "      <td>0</td>\n",
       "      <td>0</td>\n",
       "      <td>1</td>\n",
       "      <td>0</td>\n",
       "    </tr>\n",
       "    <tr>\n",
       "      <th>4</th>\n",
       "      <td>1575217357105946624</td>\n",
       "      <td>Hoy por fin ve la luz mi primer Case Study púb...</td>\n",
       "      <td>604485175</td>\n",
       "      <td>2022-09-28 20:14:18</td>\n",
       "      <td>3</td>\n",
       "      <td>0</td>\n",
       "      <td>4</td>\n",
       "      <td>0</td>\n",
       "    </tr>\n",
       "  </tbody>\n",
       "</table>\n",
       "</div>"
      ],
      "text/plain": [
       "                    id                                               text  \\\n",
       "0  1578613094191796224  Gente muy agradable en @TheBridge_Tech , te ri...   \n",
       "1  1577334577701453827  Recordaros que la semana que viene tenemos la ...   \n",
       "2  1576902991507922944  El desarrollador web es uno de los perfiles má...   \n",
       "3  1576856703349374976      @jorgegrev @TheBridge_Tech Enhorabuena crack!   \n",
       "4  1575217357105946624  Hoy por fin ve la luz mi primer Case Study púb...   \n",
       "\n",
       "             author_id          created_at  retweet_count  reply_count  \\\n",
       "0  1578095844569514011 2022-10-08 05:07:45              0            0   \n",
       "1           1003872445 2022-10-04 16:27:23              2            0   \n",
       "2           2529499620 2022-10-03 11:52:25              3            0   \n",
       "3   706520411551494145 2022-10-03 08:48:29              0            0   \n",
       "4            604485175 2022-09-28 20:14:18              3            0   \n",
       "\n",
       "   like_count  quote_count  \n",
       "0           0            0  \n",
       "1          12            0  \n",
       "2           3            0  \n",
       "3           1            0  \n",
       "4           4            0  "
      ]
     },
     "execution_count": 427,
     "metadata": {},
     "output_type": "execute_result"
    }
   ],
   "source": [
    "df_tweets.head()"
   ]
  },
  {
   "cell_type": "code",
   "execution_count": 428,
   "metadata": {},
   "outputs": [
    {
     "name": "stdout",
     "output_type": "stream",
     "text": [
      "<class 'pandas.core.frame.DataFrame'>\n",
      "RangeIndex: 154 entries, 0 to 153\n",
      "Data columns (total 8 columns):\n",
      " #   Column         Non-Null Count  Dtype         \n",
      "---  ------         --------------  -----         \n",
      " 0   id             154 non-null    object        \n",
      " 1   text           154 non-null    object        \n",
      " 2   author_id      154 non-null    object        \n",
      " 3   created_at     154 non-null    datetime64[ns]\n",
      " 4   retweet_count  154 non-null    int64         \n",
      " 5   reply_count    154 non-null    int64         \n",
      " 6   like_count     154 non-null    int64         \n",
      " 7   quote_count    154 non-null    int64         \n",
      "dtypes: datetime64[ns](1), int64(4), object(3)\n",
      "memory usage: 9.8+ KB\n"
     ]
    }
   ],
   "source": [
    "df_tweets.info()"
   ]
  },
  {
   "cell_type": "code",
   "execution_count": 429,
   "metadata": {},
   "outputs": [
    {
     "data": {
      "text/html": [
       "<div>\n",
       "<style scoped>\n",
       "    .dataframe tbody tr th:only-of-type {\n",
       "        vertical-align: middle;\n",
       "    }\n",
       "\n",
       "    .dataframe tbody tr th {\n",
       "        vertical-align: top;\n",
       "    }\n",
       "\n",
       "    .dataframe thead th {\n",
       "        text-align: right;\n",
       "    }\n",
       "</style>\n",
       "<table border=\"1\" class=\"dataframe\">\n",
       "  <thead>\n",
       "    <tr style=\"text-align: right;\">\n",
       "      <th></th>\n",
       "      <th>id</th>\n",
       "      <th>name</th>\n",
       "      <th>username</th>\n",
       "    </tr>\n",
       "  </thead>\n",
       "  <tbody>\n",
       "    <tr>\n",
       "      <th>0</th>\n",
       "      <td>1578095844569514011</td>\n",
       "      <td>Rocket</td>\n",
       "      <td>75_Rocket_</td>\n",
       "    </tr>\n",
       "    <tr>\n",
       "      <th>1</th>\n",
       "      <td>1003872445</td>\n",
       "      <td>Pau Mugarra</td>\n",
       "      <td>PauMugarra</td>\n",
       "    </tr>\n",
       "    <tr>\n",
       "      <th>2</th>\n",
       "      <td>2529499620</td>\n",
       "      <td>Formación Fundación Universidad Carlos III</td>\n",
       "      <td>formacion_fuc3</td>\n",
       "    </tr>\n",
       "    <tr>\n",
       "      <th>3</th>\n",
       "      <td>706520411551494145</td>\n",
       "      <td>JoseSola</td>\n",
       "      <td>Jose_Sola_</td>\n",
       "    </tr>\n",
       "    <tr>\n",
       "      <th>4</th>\n",
       "      <td>604485175</td>\n",
       "      <td>Berta Otero</td>\n",
       "      <td>bertinha84</td>\n",
       "    </tr>\n",
       "  </tbody>\n",
       "</table>\n",
       "</div>"
      ],
      "text/plain": [
       "                    id                                        name  \\\n",
       "0  1578095844569514011                                      Rocket   \n",
       "1           1003872445                                 Pau Mugarra   \n",
       "2           2529499620  Formación Fundación Universidad Carlos III   \n",
       "3   706520411551494145                                    JoseSola   \n",
       "4            604485175                                 Berta Otero   \n",
       "\n",
       "         username  \n",
       "0      75_Rocket_  \n",
       "1      PauMugarra  \n",
       "2  formacion_fuc3  \n",
       "3      Jose_Sola_  \n",
       "4      bertinha84  "
      ]
     },
     "execution_count": 429,
     "metadata": {},
     "output_type": "execute_result"
    }
   ],
   "source": [
    "df_users.head()"
   ]
  },
  {
   "cell_type": "code",
   "execution_count": 430,
   "metadata": {},
   "outputs": [
    {
     "name": "stdout",
     "output_type": "stream",
     "text": [
      "<class 'pandas.core.frame.DataFrame'>\n",
      "RangeIndex: 82 entries, 0 to 81\n",
      "Data columns (total 3 columns):\n",
      " #   Column    Non-Null Count  Dtype \n",
      "---  ------    --------------  ----- \n",
      " 0   id        82 non-null     object\n",
      " 1   name      82 non-null     object\n",
      " 2   username  82 non-null     object\n",
      "dtypes: object(3)\n",
      "memory usage: 2.0+ KB\n"
     ]
    }
   ],
   "source": [
    "df_users.info()"
   ]
  },
  {
   "cell_type": "code",
   "execution_count": 431,
   "metadata": {},
   "outputs": [],
   "source": [
    "df_tweets['year'] = df_tweets['created_at'].dt.year\n",
    "df_tweets['month'] = df_tweets['created_at'].dt.month\n",
    "df_tweets['day'] = df_tweets['created_at'].dt.day\n",
    "df_tweets['time'] = df_tweets['created_at'].dt.time"
   ]
  },
  {
   "cell_type": "code",
   "execution_count": 432,
   "metadata": {},
   "outputs": [
    {
     "name": "stdout",
     "output_type": "stream",
     "text": [
      "The Bridge school has been mentioned a total of 154 times since 13th of June.\n"
     ]
    }
   ],
   "source": [
    "print('The Bridge school has been mentioned a total of ' + str(len(df_tweets)) + ' times since 13th of June.')"
   ]
  },
  {
   "cell_type": "code",
   "execution_count": 433,
   "metadata": {},
   "outputs": [
    {
     "data": {
      "text/html": [
       "<div>\n",
       "<style scoped>\n",
       "    .dataframe tbody tr th:only-of-type {\n",
       "        vertical-align: middle;\n",
       "    }\n",
       "\n",
       "    .dataframe tbody tr th {\n",
       "        vertical-align: top;\n",
       "    }\n",
       "\n",
       "    .dataframe thead th {\n",
       "        text-align: right;\n",
       "    }\n",
       "</style>\n",
       "<table border=\"1\" class=\"dataframe\">\n",
       "  <thead>\n",
       "    <tr style=\"text-align: right;\">\n",
       "      <th></th>\n",
       "      <th>id</th>\n",
       "      <th>text</th>\n",
       "      <th>author_id</th>\n",
       "      <th>created_at</th>\n",
       "      <th>retweet_count</th>\n",
       "      <th>reply_count</th>\n",
       "      <th>like_count</th>\n",
       "      <th>quote_count</th>\n",
       "      <th>year</th>\n",
       "      <th>month</th>\n",
       "      <th>day</th>\n",
       "      <th>time</th>\n",
       "      <th>total_interactions</th>\n",
       "    </tr>\n",
       "  </thead>\n",
       "  <tbody>\n",
       "    <tr>\n",
       "      <th>6</th>\n",
       "      <td>1573246948693651456</td>\n",
       "      <td>Y seguimos con lo prometido:  Primera quedada ...</td>\n",
       "      <td>1003872445</td>\n",
       "      <td>2022-09-23 09:44:36</td>\n",
       "      <td>7</td>\n",
       "      <td>0</td>\n",
       "      <td>20</td>\n",
       "      <td>4</td>\n",
       "      <td>2022</td>\n",
       "      <td>9</td>\n",
       "      <td>23</td>\n",
       "      <td>09:44:36</td>\n",
       "      <td>31</td>\n",
       "    </tr>\n",
       "  </tbody>\n",
       "</table>\n",
       "</div>"
      ],
      "text/plain": [
       "                    id                                               text  \\\n",
       "6  1573246948693651456  Y seguimos con lo prometido:  Primera quedada ...   \n",
       "\n",
       "    author_id          created_at  retweet_count  reply_count  like_count  \\\n",
       "6  1003872445 2022-09-23 09:44:36              7            0          20   \n",
       "\n",
       "   quote_count  year  month  day      time  total_interactions  \n",
       "6            4  2022      9   23  09:44:36                  31  "
      ]
     },
     "execution_count": 433,
     "metadata": {},
     "output_type": "execute_result"
    }
   ],
   "source": [
    "# The column social_repercussion contains the sum of the 4 metrics columns\n",
    "df_tweets['total_interactions'] = df_tweets['retweet_count'] + df_tweets['reply_count'] + df_tweets['like_count'] + df_tweets['quote_count']\n",
    "\n",
    "# Row which contains tweet with most repercussion information\n",
    "tweet_most_repercussion = df_tweets[df_tweets['total_interactions']==df_tweets['total_interactions'].max()]\n",
    "tweet_most_repercussion"
   ]
  },
  {
   "cell_type": "code",
   "execution_count": 434,
   "metadata": {},
   "outputs": [],
   "source": [
    "def printed_text(feature):\n",
    "    return tweet_most_repercussion[feature].values[0]"
   ]
  },
  {
   "cell_type": "code",
   "execution_count": 435,
   "metadata": {},
   "outputs": [],
   "source": [
    "def get_user_name(id):\n",
    "    return df_users[df_users['id'] == id]['name'].values[0]"
   ]
  },
  {
   "cell_type": "code",
   "execution_count": 436,
   "metadata": {},
   "outputs": [
    {
     "name": "stdout",
     "output_type": "stream",
     "text": [
      "The tweet with most social repercussion was:\n",
      "Text:  Y seguimos con lo prometido:  Primera quedada de la comunidad #CPS en Madrid 🚀: https://t.co/xnWjKu6fPi en un espacio cedido por @TheBridge_Tech. \n",
      "Author name:  Pau Mugarra \n",
      "Date:  23 / 9 / 2022 \n",
      "Total interactions:  31 \n",
      "Retweet count:  7 \n",
      "Reply count:  0 \n",
      "Like count:  20 \n",
      "Quote count:  4\n"
     ]
    }
   ],
   "source": [
    "print('The tweet with most social repercussion was:\\nText: ', printed_text('text'),\n",
    "      '\\nAuthor name: ', get_user_name(printed_text('author_id')),\n",
    "      '\\nDate: ', printed_text('day'), '/', printed_text('month'), '/', printed_text('year'),\n",
    "      '\\nTotal interactions: ', printed_text('total_interactions'),\n",
    "      '\\nRetweet count: ', printed_text('retweet_count'),\n",
    "      '\\nReply count: ', printed_text('reply_count'),\n",
    "      '\\nLike count: ', printed_text('like_count'),\n",
    "      '\\nQuote count: ', printed_text('quote_count'),)"
   ]
  },
  {
   "cell_type": "code",
   "execution_count": 437,
   "metadata": {},
   "outputs": [],
   "source": [
    "# User with most tweets\n",
    "most_repeated_user = df_tweets['author_id'].value_counts().idxmax()\n",
    "\n",
    "# Times this user posted\n",
    "times_user_repeated = df_tweets['author_id'].value_counts()[most_repeated_user]"
   ]
  },
  {
   "cell_type": "code",
   "execution_count": 438,
   "metadata": {},
   "outputs": [
    {
     "data": {
      "text/html": [
       "<div>\n",
       "<style scoped>\n",
       "    .dataframe tbody tr th:only-of-type {\n",
       "        vertical-align: middle;\n",
       "    }\n",
       "\n",
       "    .dataframe tbody tr th {\n",
       "        vertical-align: top;\n",
       "    }\n",
       "\n",
       "    .dataframe thead th {\n",
       "        text-align: right;\n",
       "    }\n",
       "</style>\n",
       "<table border=\"1\" class=\"dataframe\">\n",
       "  <thead>\n",
       "    <tr style=\"text-align: right;\">\n",
       "      <th></th>\n",
       "      <th>id</th>\n",
       "      <th>name</th>\n",
       "      <th>username</th>\n",
       "    </tr>\n",
       "  </thead>\n",
       "  <tbody>\n",
       "    <tr>\n",
       "      <th>48</th>\n",
       "      <td>1255794072280842240</td>\n",
       "      <td>Heavy Mental</td>\n",
       "      <td>HeavyMental_es</td>\n",
       "    </tr>\n",
       "  </tbody>\n",
       "</table>\n",
       "</div>"
      ],
      "text/plain": [
       "                     id          name        username\n",
       "48  1255794072280842240  Heavy Mental  HeavyMental_es"
      ]
     },
     "execution_count": 438,
     "metadata": {},
     "output_type": "execute_result"
    }
   ],
   "source": [
    "# Row which contains author information\n",
    "df_users[df_users['id'] == most_repeated_user]"
   ]
  },
  {
   "cell_type": "code",
   "execution_count": 439,
   "metadata": {},
   "outputs": [
    {
     "name": "stdout",
     "output_type": "stream",
     "text": [
      "The user with most tweets was:\n",
      "Name:  Heavy Mental \n",
      "Number of tweets:  12\n"
     ]
    }
   ],
   "source": [
    "print('The user with most tweets was:\\nName: ', get_user_name(most_repeated_user),\n",
    "      '\\nNumber of tweets: ', times_user_repeated)"
   ]
  },
  {
   "cell_type": "code",
   "execution_count": 440,
   "metadata": {},
   "outputs": [],
   "source": [
    "month_with_most_tweets = df_tweets['month'].value_counts().idxmax()\n",
    "\n",
    "datetime_object = datetime.datetime.strptime(str(month_with_most_tweets), \"%m\")\n",
    "month_name = datetime_object.strftime(\"%B\")"
   ]
  },
  {
   "cell_type": "code",
   "execution_count": 441,
   "metadata": {},
   "outputs": [
    {
     "name": "stdout",
     "output_type": "stream",
     "text": [
      "Most of the tweets were done in June\n"
     ]
    }
   ],
   "source": [
    "print('Most of the tweets were done in', month_name)"
   ]
  },
  {
   "cell_type": "code",
   "execution_count": 442,
   "metadata": {},
   "outputs": [
    {
     "data": {
      "text/plain": [
       "[('de', 172),\n",
       " ('@TheBridge_Tech', 135),\n",
       " ('en', 92),\n",
       " ('la', 85),\n",
       " ('y', 66),\n",
       " ('@HeavyMental_es', 65),\n",
       " ('el', 63),\n",
       " ('a', 62),\n",
       " ('que', 53),\n",
       " ('@GuillermoDeHaro', 51),\n",
       " ('@Recuenco', 50),\n",
       " ('para', 39),\n",
       " ('@_miki', 32),\n",
       " ('@DavidAlayon', 30),\n",
       " ('por', 28),\n",
       " ('un', 26),\n",
       " ('con', 25),\n",
       " ('las', 22),\n",
       " ('del', 21),\n",
       " ('se', 19),\n",
       " ('una', 18),\n",
       " ('no', 18),\n",
       " ('los', 17),\n",
       " ('es', 15),\n",
       " ('lo', 13),\n",
       " ('nos', 12),\n",
       " ('@Mulder01198676', 12),\n",
       " ('más', 11),\n",
       " ('pero', 10),\n",
       " ('@Alienta', 10),\n",
       " ('te', 9),\n",
       " ('El', 9),\n",
       " ('al', 9),\n",
       " ('talento', 9),\n",
       " ('convenio', 9),\n",
       " ('formación', 9),\n",
       " ('@uriondo', 9),\n",
       " ('primera', 8),\n",
       " ('@TheBridge_Tech,', 8),\n",
       " ('si', 8),\n",
       " ('La', 8),\n",
       " ('ya', 8),\n",
       " ('@JotDownSpain', 8),\n",
       " ('vida', 7),\n",
       " ('Si', 7),\n",
       " ('gracias', 7),\n",
       " ('ha', 7),\n",
       " ('sobre', 7),\n",
       " ('sus', 7),\n",
       " ('the', 7),\n",
       " ('Gracias', 7),\n",
       " ('@moquintana', 7),\n",
       " ('Hoy', 6),\n",
       " ('o', 6),\n",
       " ('Y', 6),\n",
       " ('entre', 6),\n",
       " ('and', 6),\n",
       " ('profesionales', 6),\n",
       " ('#ciberseguridad', 6),\n",
       " ('No', 6),\n",
       " ('@PauMugarra', 6),\n",
       " ('va', 5),\n",
       " ('hacer', 5),\n",
       " ('tenemos', 5),\n",
       " ('han', 5),\n",
       " ('ser', 5),\n",
       " ('nuestros', 5),\n",
       " ('@TheBridge_Tech.', 5),\n",
       " ('desde', 5),\n",
       " ('todos', 5),\n",
       " ('Data', 5),\n",
       " ('demanda', 5),\n",
       " ('unen', 5),\n",
       " ('nuevo', 5),\n",
       " ('firman', 5),\n",
       " ('aceleradora', 5),\n",
       " ('millones', 5),\n",
       " ('euros', 5),\n",
       " ('me', 5),\n",
       " ('ronda', 5),\n",
       " ('directo', 5),\n",
       " ('Que', 5),\n",
       " ('@joobid', 5),\n",
       " ('@Atorrerus', 5),\n",
       " ('@joansabater', 5),\n",
       " ('@PesetJairo', 5),\n",
       " ('@adriskou', 5),\n",
       " ('@estodopornada', 5),\n",
       " ('Bootcamp', 4),\n",
       " ('buena', 4),\n",
       " ('os', 4),\n",
       " ('#bootcamp', 4),\n",
       " ('Un', 4),\n",
       " ('5', 4),\n",
       " ('Os', 4),\n",
       " ('nuestras', 4),\n",
       " ('esta', 4),\n",
       " ('colaboración', 4),\n",
       " ('hemos', 4),\n",
       " ('@IronhackMAD', 4)]"
      ]
     },
     "execution_count": 442,
     "metadata": {},
     "output_type": "execute_result"
    }
   ],
   "source": [
    "Counter(\" \".join(df_tweets[\"text\"]).split()).most_common(100)"
   ]
  },
  {
   "cell_type": "code",
   "execution_count": 443,
   "metadata": {},
   "outputs": [],
   "source": [
    "from nltk.corpus import stopwords\n",
    "stop = stopwords.words('spanish')\n",
    "df_tweets['text_without_stopwords'] = df_tweets['text'].apply(lambda x: ' '.join([word for word in x.split() if word not in (stop)]))"
   ]
  },
  {
   "cell_type": "code",
   "execution_count": 444,
   "metadata": {},
   "outputs": [
    {
     "data": {
      "text/plain": [
       "[('@TheBridge_Tech', 135),\n",
       " ('@HeavyMental_es', 65),\n",
       " ('@GuillermoDeHaro', 51),\n",
       " ('@Recuenco', 50),\n",
       " ('@_miki', 32),\n",
       " ('@DavidAlayon', 30),\n",
       " ('@Mulder01198676', 12),\n",
       " ('@Alienta', 10),\n",
       " ('El', 9),\n",
       " ('talento', 9),\n",
       " ('convenio', 9),\n",
       " ('formación', 9),\n",
       " ('@uriondo', 9),\n",
       " ('primera', 8),\n",
       " ('@TheBridge_Tech,', 8),\n",
       " ('si', 8),\n",
       " ('La', 8),\n",
       " ('@JotDownSpain', 8),\n",
       " ('vida', 7),\n",
       " ('Si', 7),\n",
       " ('gracias', 7),\n",
       " ('the', 7),\n",
       " ('Gracias', 7),\n",
       " ('@moquintana', 7),\n",
       " ('Hoy', 6),\n",
       " ('Y', 6),\n",
       " ('and', 6),\n",
       " ('profesionales', 6),\n",
       " ('#ciberseguridad', 6),\n",
       " ('No', 6),\n",
       " ('@PauMugarra', 6),\n",
       " ('va', 5),\n",
       " ('hacer', 5),\n",
       " ('ser', 5),\n",
       " ('@TheBridge_Tech.', 5),\n",
       " ('Data', 5),\n",
       " ('demanda', 5),\n",
       " ('unen', 5),\n",
       " ('nuevo', 5),\n",
       " ('firman', 5),\n",
       " ('aceleradora', 5),\n",
       " ('millones', 5),\n",
       " ('euros', 5),\n",
       " ('ronda', 5),\n",
       " ('directo', 5),\n",
       " ('Que', 5),\n",
       " ('@joobid', 5),\n",
       " ('@Atorrerus', 5),\n",
       " ('@joansabater', 5),\n",
       " ('@PesetJairo', 5),\n",
       " ('@adriskou', 5),\n",
       " ('@estodopornada', 5),\n",
       " ('Bootcamp', 4),\n",
       " ('buena', 4),\n",
       " ('#bootcamp', 4),\n",
       " ('Un', 4),\n",
       " ('5', 4),\n",
       " ('Os', 4),\n",
       " ('colaboración', 4),\n",
       " ('@IronhackMAD', 4),\n",
       " ('@ISDICoders', 4),\n",
       " ('@Ubiqum', 4),\n",
       " ('@4GeeksAcademyES', 4),\n",
       " ('@hackaboss_', 4),\n",
       " ('@KeepCoding_', 4),\n",
       " ('@uxerschool', 4),\n",
       " ('@CraftCodeTech', 4),\n",
       " ('@CodenotchMAD', 4),\n",
       " ('@NeolandStudio', 4),\n",
       " ('@Adalab_Digital', 4),\n",
       " ('@IEuniversity', 4),\n",
       " ('@lemoncoders', 4),\n",
       " ('@Fujitsu_ES', 4),\n",
       " ('hoy', 4),\n",
       " ('#talento', 4),\n",
       " ('En', 4),\n",
       " ('🤝🏼', 4),\n",
       " ('@ceeivalencia', 4),\n",
       " ('digital,', 4),\n",
       " ('colaboración:', 4),\n",
       " ('https://t.co/8neFc4j8i4', 4),\n",
       " ('🎯', 4),\n",
       " ('Complementar', 4),\n",
       " ('técnica', 4),\n",
       " ('talento,', 4),\n",
       " ('principales', 4),\n",
       " ('objetivos.', 4),\n",
       " ('@Google', 4),\n",
       " ('@UbaldoHervas', 4),\n",
       " ('@pelayoarbues', 4),\n",
       " ('trabajando', 3),\n",
       " ('web', 3),\n",
       " ('Full', 3),\n",
       " ('mano', 3),\n",
       " ('👇', 3),\n",
       " ('primer', 3),\n",
       " ('bootcamp', 3),\n",
       " ('quieres', 3),\n",
       " ('futuros', 3),\n",
       " ('@valerybriz', 3)]"
      ]
     },
     "execution_count": 444,
     "metadata": {},
     "output_type": "execute_result"
    }
   ],
   "source": [
    "Counter(\" \".join(df_tweets[\"text_without_stopwords\"]).split()).most_common(100)"
   ]
  },
  {
   "cell_type": "code",
   "execution_count": 445,
   "metadata": {},
   "outputs": [],
   "source": [
    "df_tweets['text_without_articles'] = df_tweets['text_without_stopwords'].apply(lambda x: x.lower())"
   ]
  },
  {
   "cell_type": "code",
   "execution_count": 463,
   "metadata": {},
   "outputs": [],
   "source": [
    "def removearticles(text):\n",
    "  text = re.sub('\\s+(la|el|si|y|the|and|que|.|#)(\\s+)', '\\2', text)\n",
    "  return text"
   ]
  },
  {
   "cell_type": "code",
   "execution_count": 464,
   "metadata": {},
   "outputs": [],
   "source": [
    "def process_string(text):\n",
    "    text = re.sub(r\"\\@\\w+[,]|\\@\\w+|[,]\\@\\w+\", \"\", text)\n",
    "    return text"
   ]
  },
  {
   "cell_type": "code",
   "execution_count": 465,
   "metadata": {},
   "outputs": [],
   "source": [
    "df_tweets['text_without_articles'] = df_tweets['text_without_articles'].apply(lambda x: removearticles(x))\n",
    "df_tweets['text_without_articles'] = df_tweets['text_without_articles'].apply(lambda x: process_string(x))"
   ]
  },
  {
   "cell_type": "code",
   "execution_count": 478,
   "metadata": {},
   "outputs": [],
   "source": [
    "most_repeated = Counter(\" \".join(df_tweets[\"text_without_articles\"]).split()).most_common(100)"
   ]
  },
  {
   "cell_type": "code",
   "execution_count": 479,
   "metadata": {},
   "outputs": [],
   "source": [
    "most_repeated = most_repeated[:10]"
   ]
  },
  {
   "cell_type": "code",
   "execution_count": 480,
   "metadata": {},
   "outputs": [
    {
     "data": {
      "text/plain": [
       "[('gracias', 11),\n",
       " ('talento', 10),\n",
       " ('hoy', 9),\n",
       " ('convenio', 9),\n",
       " ('formación', 9),\n",
       " ('vida', 7),\n",
       " ('bootcamp', 7),\n",
       " ('primera', 6),\n",
       " ('data', 6),\n",
       " ('profesionales', 6)]"
      ]
     },
     "execution_count": 480,
     "metadata": {},
     "output_type": "execute_result"
    }
   ],
   "source": [
    "most_repeated"
   ]
  },
  {
   "cell_type": "code",
   "execution_count": 486,
   "metadata": {},
   "outputs": [
    {
     "data": {
      "text/plain": [
       "<seaborn.axisgrid.PairGrid at 0x7fa153731e10>"
      ]
     },
     "execution_count": 486,
     "metadata": {},
     "output_type": "execute_result"
    },
    {
     "data": {
      "image/png": "[encoded data removed]",
      "text/plain": [
       "<Figure size 1000x1000 with 20 Axes>"
      ]
     },
     "metadata": {},
     "output_type": "display_data"
    }
   ],
   "source": [
    "sns.pairplot(df_tweets[['retweet_count', 'reply_count', 'like_count', 'quote_count']])"
   ]
  },
  {
   "cell_type": "code",
   "execution_count": 487,
   "metadata": {},
   "outputs": [
    {
     "data": {
      "text/plain": [
       "<AxesSubplot:>"
      ]
     },
     "execution_count": 487,
     "metadata": {},
     "output_type": "execute_result"
    },
    {
     "data": {
      "image/png": "[encoded data removed]",
      "text/plain": [
       "<Figure size 640x480 with 2 Axes>"
      ]
     },
     "metadata": {},
     "output_type": "display_data"
    }
   ],
   "source": [
    "sns.heatmap(df_tweets[['retweet_count', 'reply_count', 'like_count', 'quote_count']].corr(), annot=True)"
   ]
  },
  {
   "cell_type": "code",
   "execution_count": null,
   "metadata": {},
   "outputs": [],
   "source": [
    "def sql_query(query):\n",
    "\n",
    "    # Ejecuta la query\n",
    "    crsr.execute(query)\n",
    "\n",
    "    # Almacena los datos de la query \n",
    "    ans = crsr.fetchall()\n",
    "\n",
    "    # Obtenemos los nombres de las columnas de la tabla\n",
    "    names = [description[0] for description in crsr.description]\n",
    "\n",
    "    return pd.DataFrame(ans,columns=names)"
   ]
  }
 ],
 "metadata": {
  "kernelspec": {
   "display_name": "Python 3.7.4 64-bit",
   "language": "python",
   "name": "python3"
  },
  "language_info": {
   "codemirror_mode": {
    "name": "ipython",
    "version": 3
   },
   "file_extension": ".py",
   "mimetype": "text/x-python",
   "name": "python",
   "nbconvert_exporter": "python",
   "pygments_lexer": "ipython3",
   "version": "3.7.4"
  },
  "orig_nbformat": 4,
  "vscode": {
   "interpreter": {
    "hash": "aee8b7b246df8f9039afb4144a1f6fd8d2ca17a180786b69acc140d282b71a49"
   }
  }
 },
 "nbformat": 4,
 "nbformat_minor": 2
}
