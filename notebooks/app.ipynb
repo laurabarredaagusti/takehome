{
 "cells": [
  {
   "cell_type": "code",
   "execution_count": 10,
   "metadata": {},
   "outputs": [],
   "source": [
    "import requests\n",
    "# For saving access tokens and for file management when creating and adding to the dataset\n",
    "import os\n",
    "# For dealing with json responses we receive from the API\n",
    "import json\n",
    "# For displaying the data after\n",
    "import pandas as pd\n",
    "# For saving the response data in CSV format\n",
    "import csv\n",
    "# For parsing the dates received from twitter in readable formats\n",
    "import datetime\n",
    "import dateutil.parser\n",
    "import unicodedata\n",
    "#To add wait time between requests\n",
    "import time"
   ]
  },
  {
   "cell_type": "code",
   "execution_count": 11,
   "metadata": {},
   "outputs": [],
   "source": [
    "os.environ['TOKEN'] = 'AAAAAAAAAAAAAAAAAAAAAPfEhwEAAAAAElz971Kl5tLPtcriYImZyMc7TbA%3D7BSUXbf9ZESoLGtCug0zWwoT0dsN7gNfc5f9fTKTjzSA8v92BR'"
   ]
  },
  {
   "cell_type": "code",
   "execution_count": 12,
   "metadata": {},
   "outputs": [],
   "source": [
    "def auth():\n",
    "    return os.getenv('TOKEN')"
   ]
  },
  {
   "cell_type": "code",
   "execution_count": 13,
   "metadata": {},
   "outputs": [],
   "source": [
    "def create_headers(bearer_token):\n",
    "    headers = {\"Authorization\": \"Bearer {}\".format(bearer_token)}\n",
    "    return headers"
   ]
  },
  {
   "cell_type": "code",
   "execution_count": 14,
   "metadata": {},
   "outputs": [],
   "source": [
    "def create_url(start_date, max_results, tweet_fields, expansions, end_time=None):\n",
    "    \n",
    "    search_url = \"https://api.twitter.com/2/users/1162694149956603904/mentions\" #Change to the endpoint you want to collect data from\n",
    "\n",
    "    #change params based on the endpoint you are using\n",
    "    query_params = {'tweet.fields' : tweet_fields,\n",
    "                    'start_time': start_date,\n",
    "                    'end_time' : end_time,\n",
    "                    'max_results': max_results,\n",
    "                    'expansions': expansions,\n",
    "                    'next_token': {}}\n",
    "    return (search_url, query_params)"
   ]
  },
  {
   "cell_type": "code",
   "execution_count": 15,
   "metadata": {},
   "outputs": [],
   "source": [
    "def connect_to_endpoint(url, headers, params, next_token = None):\n",
    "    params['next_token'] = next_token   #params object received from create_url function\n",
    "    response = requests.request(\"GET\", url, headers = headers, params = params)\n",
    "    print(\"Endpoint Response Code: \" + str(response.status_code))\n",
    "    if response.status_code != 200:\n",
    "        raise Exception(response.status_code, response.text)\n",
    "    return response.json()"
   ]
  },
  {
   "cell_type": "code",
   "execution_count": 16,
   "metadata": {},
   "outputs": [],
   "source": [
    "start_date = '2022-06-12T00:00:00.000Z'\n",
    "# end_time = \"2022-06-29T00:00:00.000Z\"\n",
    "max_results = 100\n",
    "tweet_fields = 'created_at,public_metrics'\n",
    "expansions = 'author_id'\n",
    "bearer_token = auth()\n",
    "headers = create_headers(bearer_token)"
   ]
  },
  {
   "cell_type": "code",
   "execution_count": 17,
   "metadata": {},
   "outputs": [],
   "source": [
    "url = create_url(start_date, max_results, tweet_fields, expansions)"
   ]
  },
  {
   "cell_type": "code",
   "execution_count": 18,
   "metadata": {},
   "outputs": [
    {
     "name": "stdout",
     "output_type": "stream",
     "text": [
      "Endpoint Response Code: 200\n"
     ]
    }
   ],
   "source": [
    "json_response = connect_to_endpoint(url[0], headers, url[1])"
   ]
  },
  {
   "cell_type": "code",
   "execution_count": 27,
   "metadata": {},
   "outputs": [],
   "source": [
    "retweet_count = json_response['data'][3]['public_metrics']['retweet_count']\n",
    "reply_count = json_response['data'][3]['public_metrics']['reply_count']\n",
    "like_count = json_response['data'][3]['public_metrics']['like_count']\n",
    "quote_count = json_response['data'][3]['public_metrics']['quote_count']"
   ]
  },
  {
   "cell_type": "code",
   "execution_count": 30,
   "metadata": {},
   "outputs": [
    {
     "data": {
      "text/plain": [
       "100"
      ]
     },
     "execution_count": 30,
     "metadata": {},
     "output_type": "execute_result"
    }
   ],
   "source": [
    "json_response['meta']['result_count']"
   ]
  },
  {
   "cell_type": "code",
   "execution_count": 9,
   "metadata": {},
   "outputs": [],
   "source": [
    "def save_json(number, json_response):\n",
    "    filename = 'data' + str(number) + '.json'\n",
    "    path = 'data/' + filename\n",
    "    with open(path, 'w') as f:\n",
    "        json.dump(json_response, f)"
   ]
  },
  {
   "cell_type": "code",
   "execution_count": 331,
   "metadata": {},
   "outputs": [],
   "source": [
    "def get_all_tweets(start_date, max_results, tweet_fields, expansions, end_time=None):\n",
    "    url = create_url(start_date, max_results, tweet_fields, expansions)\n",
    "    json_response = connect_to_endpoint(url[0], headers, url[1])\n",
    "    save_json(1, json_response)\n",
    "    end_time = json_response['data'][-1]['created_at']\n",
    "    url = create_url(start_date, max_results, tweet_fields, expansions, end_time)\n",
    "    json_response = connect_to_endpoint(url[0], headers, url[1])\n",
    "    save_json(2, json_response)\n",
    "    return json_response"
   ]
  },
  {
   "cell_type": "code",
   "execution_count": 332,
   "metadata": {},
   "outputs": [
    {
     "name": "stdout",
     "output_type": "stream",
     "text": [
      "Endpoint Response Code: 200\n",
      "2022-06-28T07:50:34.000Z\n"
     ]
    }
   ],
   "source": [
    "json_response = get_all_tweets(start_date, max_results, tweet_fields, expansions)"
   ]
  },
  {
   "cell_type": "code",
   "execution_count": 333,
   "metadata": {},
   "outputs": [],
   "source": [
    "# print(json.dumps(json_response, indent=4, sort_keys=True))"
   ]
  },
  {
   "cell_type": "code",
   "execution_count": 18,
   "metadata": {},
   "outputs": [],
   "source": [
    "import sqlite3"
   ]
  },
  {
   "cell_type": "code",
   "execution_count": 34,
   "metadata": {},
   "outputs": [],
   "source": [
    "connection = sqlite3.connect(\"../data/twitter.db\")\n",
    "crsr = connection.cursor()"
   ]
  },
  {
   "cell_type": "code",
   "execution_count": 35,
   "metadata": {},
   "outputs": [],
   "source": [
    "def sql_query(query):\n",
    "\n",
    "    # Ejecuta la query\n",
    "    crsr.execute(query)\n",
    "\n",
    "    # Almacena los datos de la query \n",
    "    ans = crsr.fetchall()\n",
    "\n",
    "    # Obtenemos los nombres de las columnas de la tabla\n",
    "    names = [description[0] for description in crsr.description]\n",
    "\n",
    "    return pd.DataFrame(ans,columns=names)"
   ]
  },
  {
   "cell_type": "code",
   "execution_count": 36,
   "metadata": {},
   "outputs": [],
   "source": [
    "query_match = '''SELECT * FROM tweets'''"
   ]
  },
  {
   "cell_type": "code",
   "execution_count": 37,
   "metadata": {},
   "outputs": [],
   "source": [
    "df = sql_query(query_match)"
   ]
  },
  {
   "cell_type": "code",
   "execution_count": 41,
   "metadata": {},
   "outputs": [
    {
     "data": {
      "text/html": [
       "<div>\n",
       "<style scoped>\n",
       "    .dataframe tbody tr th:only-of-type {\n",
       "        vertical-align: middle;\n",
       "    }\n",
       "\n",
       "    .dataframe tbody tr th {\n",
       "        vertical-align: top;\n",
       "    }\n",
       "\n",
       "    .dataframe thead th {\n",
       "        text-align: right;\n",
       "    }\n",
       "</style>\n",
       "<table border=\"1\" class=\"dataframe\">\n",
       "  <thead>\n",
       "    <tr style=\"text-align: right;\">\n",
       "      <th></th>\n",
       "      <th>author_id</th>\n",
       "      <th>id</th>\n",
       "      <th>created_at</th>\n",
       "      <th>text</th>\n",
       "      <th>retweet_count</th>\n",
       "      <th>reply_count</th>\n",
       "      <th>like_count</th>\n",
       "      <th>quote_count</th>\n",
       "    </tr>\n",
       "  </thead>\n",
       "  <tbody>\n",
       "    <tr>\n",
       "      <th>0</th>\n",
       "      <td>1578095844569514011</td>\n",
       "      <td>1578613094191796224</td>\n",
       "      <td>2022-10-08T05:07:45.000Z</td>\n",
       "      <td>Gente muy agradable en @TheBridge_Tech , te ri...</td>\n",
       "      <td>0</td>\n",
       "      <td>0</td>\n",
       "      <td>0</td>\n",
       "      <td>0</td>\n",
       "    </tr>\n",
       "    <tr>\n",
       "      <th>1</th>\n",
       "      <td>1003872445</td>\n",
       "      <td>1577334577701453827</td>\n",
       "      <td>2022-10-04T16:27:23.000Z</td>\n",
       "      <td>Recordaros que la semana que viene tenemos la ...</td>\n",
       "      <td>2</td>\n",
       "      <td>0</td>\n",
       "      <td>12</td>\n",
       "      <td>0</td>\n",
       "    </tr>\n",
       "    <tr>\n",
       "      <th>2</th>\n",
       "      <td>2529499620</td>\n",
       "      <td>1576902991507922944</td>\n",
       "      <td>2022-10-03T11:52:25.000Z</td>\n",
       "      <td>El desarrollador web es uno de los perfiles má...</td>\n",
       "      <td>3</td>\n",
       "      <td>0</td>\n",
       "      <td>3</td>\n",
       "      <td>0</td>\n",
       "    </tr>\n",
       "    <tr>\n",
       "      <th>3</th>\n",
       "      <td>706520411551494145</td>\n",
       "      <td>1576856703349374976</td>\n",
       "      <td>2022-10-03T08:48:29.000Z</td>\n",
       "      <td>@jorgegrev @TheBridge_Tech Enhorabuena crack!</td>\n",
       "      <td>0</td>\n",
       "      <td>0</td>\n",
       "      <td>1</td>\n",
       "      <td>0</td>\n",
       "    </tr>\n",
       "    <tr>\n",
       "      <th>4</th>\n",
       "      <td>604485175</td>\n",
       "      <td>1575217357105946624</td>\n",
       "      <td>2022-09-28T20:14:18.000Z</td>\n",
       "      <td>Hoy por fin ve la luz mi primer Case Study púb...</td>\n",
       "      <td>3</td>\n",
       "      <td>0</td>\n",
       "      <td>4</td>\n",
       "      <td>0</td>\n",
       "    </tr>\n",
       "    <tr>\n",
       "      <th>...</th>\n",
       "      <td>...</td>\n",
       "      <td>...</td>\n",
       "      <td>...</td>\n",
       "      <td>...</td>\n",
       "      <td>...</td>\n",
       "      <td>...</td>\n",
       "      <td>...</td>\n",
       "      <td>...</td>\n",
       "    </tr>\n",
       "    <tr>\n",
       "      <th>149</th>\n",
       "      <td>18955785</td>\n",
       "      <td>1536313018321190912</td>\n",
       "      <td>2022-06-13T11:42:21.000Z</td>\n",
       "      <td>Lo conseguí!!! Gracias @TheBridge_Tech  @Heavy...</td>\n",
       "      <td>0</td>\n",
       "      <td>0</td>\n",
       "      <td>1</td>\n",
       "      <td>0</td>\n",
       "    </tr>\n",
       "    <tr>\n",
       "      <th>150</th>\n",
       "      <td>15521945</td>\n",
       "      <td>1536311923423203331</td>\n",
       "      <td>2022-06-13T11:38:00.000Z</td>\n",
       "      <td>@TheBridge_Tech @HeavyMental_es @Alienta ¡Y yo...</td>\n",
       "      <td>0</td>\n",
       "      <td>0</td>\n",
       "      <td>1</td>\n",
       "      <td>0</td>\n",
       "    </tr>\n",
       "    <tr>\n",
       "      <th>151</th>\n",
       "      <td>10614452</td>\n",
       "      <td>1536310998319210496</td>\n",
       "      <td>2022-06-13T11:34:19.000Z</td>\n",
       "      <td>@TheBridge_Tech @HeavyMental_es @Alienta ¡La t...</td>\n",
       "      <td>0</td>\n",
       "      <td>0</td>\n",
       "      <td>2</td>\n",
       "      <td>0</td>\n",
       "    </tr>\n",
       "    <tr>\n",
       "      <th>152</th>\n",
       "      <td>1255794072280842240</td>\n",
       "      <td>1536310702876549123</td>\n",
       "      <td>2022-06-13T11:33:09.000Z</td>\n",
       "      <td>Lo prometimos y han llegado gracias a @TheBrid...</td>\n",
       "      <td>2</td>\n",
       "      <td>4</td>\n",
       "      <td>6</td>\n",
       "      <td>0</td>\n",
       "    </tr>\n",
       "    <tr>\n",
       "      <th>153</th>\n",
       "      <td>1434890317640126469</td>\n",
       "      <td>1536267654717132801</td>\n",
       "      <td>2022-06-13T08:42:06.000Z</td>\n",
       "      <td>@HeavyMental_es @PesetJairo @TheBridge_Tech @G...</td>\n",
       "      <td>0</td>\n",
       "      <td>0</td>\n",
       "      <td>2</td>\n",
       "      <td>0</td>\n",
       "    </tr>\n",
       "  </tbody>\n",
       "</table>\n",
       "<p>154 rows × 8 columns</p>\n",
       "</div>"
      ],
      "text/plain": [
       "               author_id                   id                created_at  \\\n",
       "0    1578095844569514011  1578613094191796224  2022-10-08T05:07:45.000Z   \n",
       "1             1003872445  1577334577701453827  2022-10-04T16:27:23.000Z   \n",
       "2             2529499620  1576902991507922944  2022-10-03T11:52:25.000Z   \n",
       "3     706520411551494145  1576856703349374976  2022-10-03T08:48:29.000Z   \n",
       "4              604485175  1575217357105946624  2022-09-28T20:14:18.000Z   \n",
       "..                   ...                  ...                       ...   \n",
       "149             18955785  1536313018321190912  2022-06-13T11:42:21.000Z   \n",
       "150             15521945  1536311923423203331  2022-06-13T11:38:00.000Z   \n",
       "151             10614452  1536310998319210496  2022-06-13T11:34:19.000Z   \n",
       "152  1255794072280842240  1536310702876549123  2022-06-13T11:33:09.000Z   \n",
       "153  1434890317640126469  1536267654717132801  2022-06-13T08:42:06.000Z   \n",
       "\n",
       "                                                  text  retweet_count  \\\n",
       "0    Gente muy agradable en @TheBridge_Tech , te ri...              0   \n",
       "1    Recordaros que la semana que viene tenemos la ...              2   \n",
       "2    El desarrollador web es uno de los perfiles má...              3   \n",
       "3        @jorgegrev @TheBridge_Tech Enhorabuena crack!              0   \n",
       "4    Hoy por fin ve la luz mi primer Case Study púb...              3   \n",
       "..                                                 ...            ...   \n",
       "149  Lo conseguí!!! Gracias @TheBridge_Tech  @Heavy...              0   \n",
       "150  @TheBridge_Tech @HeavyMental_es @Alienta ¡Y yo...              0   \n",
       "151  @TheBridge_Tech @HeavyMental_es @Alienta ¡La t...              0   \n",
       "152  Lo prometimos y han llegado gracias a @TheBrid...              2   \n",
       "153  @HeavyMental_es @PesetJairo @TheBridge_Tech @G...              0   \n",
       "\n",
       "     reply_count  like_count  quote_count  \n",
       "0              0           0            0  \n",
       "1              0          12            0  \n",
       "2              0           3            0  \n",
       "3              0           1            0  \n",
       "4              0           4            0  \n",
       "..           ...         ...          ...  \n",
       "149            0           1            0  \n",
       "150            0           1            0  \n",
       "151            0           2            0  \n",
       "152            4           6            0  \n",
       "153            0           2            0  \n",
       "\n",
       "[154 rows x 8 columns]"
      ]
     },
     "execution_count": 41,
     "metadata": {},
     "output_type": "execute_result"
    }
   ],
   "source": [
    "df"
   ]
  },
  {
   "cell_type": "code",
   "execution_count": null,
   "metadata": {},
   "outputs": [],
   "source": []
  }
 ],
 "metadata": {
  "kernelspec": {
   "display_name": "Python 3.7.4 64-bit",
   "language": "python",
   "name": "python3"
  },
  "language_info": {
   "codemirror_mode": {
    "name": "ipython",
    "version": 3
   },
   "file_extension": ".py",
   "mimetype": "text/x-python",
   "name": "python",
   "nbconvert_exporter": "python",
   "pygments_lexer": "ipython3",
   "version": "3.7.4"
  },
  "orig_nbformat": 4,
  "vscode": {
   "interpreter": {
    "hash": "aee8b7b246df8f9039afb4144a1f6fd8d2ca17a180786b69acc140d282b71a49"
   }
  }
 },
 "nbformat": 4,
 "nbformat_minor": 2
}
