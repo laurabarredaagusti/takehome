{
 "cells": [
  {
   "cell_type": "code",
   "execution_count": 10,
   "metadata": {},
   "outputs": [],
   "source": [
    "import requests\n",
    "# For saving access tokens and for file management when creating and adding to the dataset\n",
    "import os\n",
    "# For dealing with json responses we receive from the API\n",
    "import json\n",
    "# For displaying the data after\n",
    "import pandas as pd\n",
    "# For saving the response data in CSV format\n",
    "import csv\n",
    "# For parsing the dates received from twitter in readable formats\n",
    "import datetime\n",
    "import dateutil.parser\n",
    "import unicodedata\n",
    "#To add wait time between requests\n",
    "import time"
   ]
  },
  {
   "cell_type": "code",
   "execution_count": 11,
   "metadata": {},
   "outputs": [],
   "source": [
    "os.environ['TOKEN'] = 'AAAAAAAAAAAAAAAAAAAAAPfEhwEAAAAAElz971Kl5tLPtcriYImZyMc7TbA%3D7BSUXbf9ZESoLGtCug0zWwoT0dsN7gNfc5f9fTKTjzSA8v92BR'"
   ]
  },
  {
   "cell_type": "code",
   "execution_count": 12,
   "metadata": {},
   "outputs": [],
   "source": [
    "def auth():\n",
    "    return os.getenv('TOKEN')"
   ]
  },
  {
   "cell_type": "code",
   "execution_count": 13,
   "metadata": {},
   "outputs": [],
   "source": [
    "def create_headers(bearer_token):\n",
    "    headers = {\"Authorization\": \"Bearer {}\".format(bearer_token)}\n",
    "    return headers"
   ]
  },
  {
   "cell_type": "code",
   "execution_count": 14,
   "metadata": {},
   "outputs": [],
   "source": [
    "def create_url(start_date, max_results, tweet_fields, expansions, end_time=None):\n",
    "    \n",
    "    search_url = \"https://api.twitter.com/2/users/1162694149956603904/mentions\" #Change to the endpoint you want to collect data from\n",
    "\n",
    "    #change params based on the endpoint you are using\n",
    "    query_params = {'tweet.fields' : tweet_fields,\n",
    "                    'start_time': start_date,\n",
    "                    'end_time' : end_time,\n",
    "                    'max_results': max_results,\n",
    "                    'expansions': expansions,\n",
    "                    'next_token': {}}\n",
    "    return (search_url, query_params)"
   ]
  },
  {
   "cell_type": "code",
   "execution_count": 15,
   "metadata": {},
   "outputs": [],
   "source": [
    "def connect_to_endpoint(url, headers, params, next_token = None):\n",
    "    params['next_token'] = next_token   #params object received from create_url function\n",
    "    response = requests.request(\"GET\", url, headers = headers, params = params)\n",
    "    print(\"Endpoint Response Code: \" + str(response.status_code))\n",
    "    if response.status_code != 200:\n",
    "        raise Exception(response.status_code, response.text)\n",
    "    return response.json()"
   ]
  },
  {
   "cell_type": "code",
   "execution_count": 16,
   "metadata": {},
   "outputs": [],
   "source": [
    "start_date = '2022-06-12T00:00:00.000Z'\n",
    "# end_time = \"2022-06-29T00:00:00.000Z\"\n",
    "max_results = 100\n",
    "tweet_fields = 'created_at,public_metrics'\n",
    "expansions = 'author_id'\n",
    "bearer_token = auth()\n",
    "headers = create_headers(bearer_token)"
   ]
  },
  {
   "cell_type": "code",
   "execution_count": 17,
   "metadata": {},
   "outputs": [],
   "source": [
    "url = create_url(start_date, max_results, tweet_fields, expansions)"
   ]
  },
  {
   "cell_type": "code",
   "execution_count": 18,
   "metadata": {},
   "outputs": [
    {
     "name": "stdout",
     "output_type": "stream",
     "text": [
      "Endpoint Response Code: 200\n"
     ]
    }
   ],
   "source": [
    "json_response = connect_to_endpoint(url[0], headers, url[1])"
   ]
  },
  {
   "cell_type": "code",
   "execution_count": 27,
   "metadata": {},
   "outputs": [],
   "source": [
    "retweet_count = json_response['data'][3]['public_metrics']['retweet_count']\n",
    "reply_count = json_response['data'][3]['public_metrics']['reply_count']\n",
    "like_count = json_response['data'][3]['public_metrics']['like_count']\n",
    "quote_count = json_response['data'][3]['public_metrics']['quote_count']"
   ]
  },
  {
   "cell_type": "code",
   "execution_count": 30,
   "metadata": {},
   "outputs": [
    {
     "data": {
      "text/plain": [
       "100"
      ]
     },
     "execution_count": 30,
     "metadata": {},
     "output_type": "execute_result"
    }
   ],
   "source": [
    "json_response['meta']['result_count']"
   ]
  },
  {
   "cell_type": "code",
   "execution_count": 9,
   "metadata": {},
   "outputs": [],
   "source": [
    "def save_json(number, json_response):\n",
    "    filename = 'data' + str(number) + '.json'\n",
    "    path = 'data/' + filename\n",
    "    with open(path, 'w') as f:\n",
    "        json.dump(json_response, f)"
   ]
  },
  {
   "cell_type": "code",
   "execution_count": 331,
   "metadata": {},
   "outputs": [],
   "source": [
    "def get_all_tweets(start_date, max_results, tweet_fields, expansions, end_time=None):\n",
    "    url = create_url(start_date, max_results, tweet_fields, expansions)\n",
    "    json_response = connect_to_endpoint(url[0], headers, url[1])\n",
    "    save_json(1, json_response)\n",
    "    end_time = json_response['data'][-1]['created_at']\n",
    "    url = create_url(start_date, max_results, tweet_fields, expansions, end_time)\n",
    "    json_response = connect_to_endpoint(url[0], headers, url[1])\n",
    "    save_json(2, json_response)\n",
    "    return json_response"
   ]
  },
  {
   "cell_type": "code",
   "execution_count": 332,
   "metadata": {},
   "outputs": [
    {
     "name": "stdout",
     "output_type": "stream",
     "text": [
      "Endpoint Response Code: 200\n",
      "2022-06-28T07:50:34.000Z\n"
     ]
    }
   ],
   "source": [
    "json_response = get_all_tweets(start_date, max_results, tweet_fields, expansions)"
   ]
  },
  {
   "cell_type": "code",
   "execution_count": 333,
   "metadata": {},
   "outputs": [],
   "source": [
    "# print(json.dumps(json_response, indent=4, sort_keys=True))"
   ]
  },
  {
   "cell_type": "code",
   "execution_count": 1,
   "metadata": {},
   "outputs": [],
   "source": [
    "import sqlite3"
   ]
  },
  {
   "cell_type": "code",
   "execution_count": 10,
   "metadata": {},
   "outputs": [],
   "source": [
    "connection = sqlite3.connect(\"../data/twitter.db\")\n",
    "crsr = connection.cursor()"
   ]
  },
  {
   "cell_type": "code",
   "execution_count": 13,
   "metadata": {},
   "outputs": [],
   "source": [
    "def sql_query(query):\n",
    "\n",
    "    # Ejecuta la query\n",
    "    crsr.execute(query)\n",
    "\n",
    "    # Almacena los datos de la query \n",
    "    ans = crsr.fetchall()\n",
    "\n",
    "    # Obtenemos los nombres de las columnas de la tabla\n",
    "    names = [description[0] for description in crsr.description]\n",
    "\n",
    "    return pd.DataFrame(ans,columns=names)"
   ]
  },
  {
   "cell_type": "code",
   "execution_count": 16,
   "metadata": {},
   "outputs": [],
   "source": [
    "query_match = '''SELECT * FROM users'''"
   ]
  },
  {
   "cell_type": "code",
   "execution_count": 17,
   "metadata": {},
   "outputs": [
    {
     "data": {
      "text/html": [
       "<div>\n",
       "<style scoped>\n",
       "    .dataframe tbody tr th:only-of-type {\n",
       "        vertical-align: middle;\n",
       "    }\n",
       "\n",
       "    .dataframe tbody tr th {\n",
       "        vertical-align: top;\n",
       "    }\n",
       "\n",
       "    .dataframe thead th {\n",
       "        text-align: right;\n",
       "    }\n",
       "</style>\n",
       "<table border=\"1\" class=\"dataframe\">\n",
       "  <thead>\n",
       "    <tr style=\"text-align: right;\">\n",
       "      <th></th>\n",
       "      <th>id</th>\n",
       "      <th>name</th>\n",
       "      <th>username</th>\n",
       "    </tr>\n",
       "  </thead>\n",
       "  <tbody>\n",
       "    <tr>\n",
       "      <th>0</th>\n",
       "      <td>1578095844569514011</td>\n",
       "      <td>Rocket</td>\n",
       "      <td>75_Rocket_</td>\n",
       "    </tr>\n",
       "    <tr>\n",
       "      <th>1</th>\n",
       "      <td>1003872445</td>\n",
       "      <td>Pau Mugarra</td>\n",
       "      <td>PauMugarra</td>\n",
       "    </tr>\n",
       "    <tr>\n",
       "      <th>2</th>\n",
       "      <td>2529499620</td>\n",
       "      <td>Formación Fundación Universidad Carlos III</td>\n",
       "      <td>formacion_fuc3</td>\n",
       "    </tr>\n",
       "    <tr>\n",
       "      <th>3</th>\n",
       "      <td>706520411551494145</td>\n",
       "      <td>JoseSola</td>\n",
       "      <td>Jose_Sola_</td>\n",
       "    </tr>\n",
       "    <tr>\n",
       "      <th>4</th>\n",
       "      <td>604485175</td>\n",
       "      <td>Berta Otero</td>\n",
       "      <td>bertinha84</td>\n",
       "    </tr>\n",
       "    <tr>\n",
       "      <th>5</th>\n",
       "      <td>1391838162830385165</td>\n",
       "      <td>Apiux Tecnología</td>\n",
       "      <td>Apiuxtecnologia</td>\n",
       "    </tr>\n",
       "    <tr>\n",
       "      <th>6</th>\n",
       "      <td>1494355208473874438</td>\n",
       "      <td>PyData Madrid</td>\n",
       "      <td>PyDataMadrid</td>\n",
       "    </tr>\n",
       "    <tr>\n",
       "      <th>7</th>\n",
       "      <td>12085582</td>\n",
       "      <td>diegodl</td>\n",
       "      <td>diegodl</td>\n",
       "    </tr>\n",
       "    <tr>\n",
       "      <th>8</th>\n",
       "      <td>2907682397</td>\n",
       "      <td>graphext</td>\n",
       "      <td>graphext</td>\n",
       "    </tr>\n",
       "    <tr>\n",
       "      <th>9</th>\n",
       "      <td>1131933723681800193</td>\n",
       "      <td>Biohub VLC</td>\n",
       "      <td>BiohubVLC</td>\n",
       "    </tr>\n",
       "    <tr>\n",
       "      <th>10</th>\n",
       "      <td>1073622740</td>\n",
       "      <td>COITCV/AVIT</td>\n",
       "      <td>COITCV</td>\n",
       "    </tr>\n",
       "    <tr>\n",
       "      <th>11</th>\n",
       "      <td>41110484</td>\n",
       "      <td>Raúl Cotrina</td>\n",
       "      <td>raulcotrina</td>\n",
       "    </tr>\n",
       "    <tr>\n",
       "      <th>12</th>\n",
       "      <td>210026854</td>\n",
       "      <td>Ana Amar🎃</td>\n",
       "      <td>AnaWhitewolf</td>\n",
       "    </tr>\n",
       "    <tr>\n",
       "      <th>13</th>\n",
       "      <td>2390191837</td>\n",
       "      <td>LaSeñoenlaRadioTdF</td>\n",
       "      <td>LaSenioenRadio</td>\n",
       "    </tr>\n",
       "    <tr>\n",
       "      <th>14</th>\n",
       "      <td>394734366</td>\n",
       "      <td>Sandra Huerga</td>\n",
       "      <td>sanhuerga</td>\n",
       "    </tr>\n",
       "    <tr>\n",
       "      <th>15</th>\n",
       "      <td>1327588137346998273</td>\n",
       "      <td>DIGITAL INNOVATION NEWS</td>\n",
       "      <td>innovation_news</td>\n",
       "    </tr>\n",
       "    <tr>\n",
       "      <th>16</th>\n",
       "      <td>581925228</td>\n",
       "      <td>Fujitsu España</td>\n",
       "      <td>Fujitsu_ES</td>\n",
       "    </tr>\n",
       "  </tbody>\n",
       "</table>\n",
       "</div>"
      ],
      "text/plain": [
       "                     id                                        name  \\\n",
       "0   1578095844569514011                                      Rocket   \n",
       "1            1003872445                                 Pau Mugarra   \n",
       "2            2529499620  Formación Fundación Universidad Carlos III   \n",
       "3    706520411551494145                                    JoseSola   \n",
       "4             604485175                                 Berta Otero   \n",
       "5   1391838162830385165                            Apiux Tecnología   \n",
       "6   1494355208473874438                               PyData Madrid   \n",
       "7              12085582                                     diegodl   \n",
       "8            2907682397                                    graphext   \n",
       "9   1131933723681800193                                  Biohub VLC   \n",
       "10           1073622740                                 COITCV/AVIT   \n",
       "11             41110484                                Raúl Cotrina   \n",
       "12            210026854                                   Ana Amar🎃   \n",
       "13           2390191837                          LaSeñoenlaRadioTdF   \n",
       "14            394734366                               Sandra Huerga   \n",
       "15  1327588137346998273                     DIGITAL INNOVATION NEWS   \n",
       "16            581925228                              Fujitsu España   \n",
       "\n",
       "           username  \n",
       "0        75_Rocket_  \n",
       "1        PauMugarra  \n",
       "2    formacion_fuc3  \n",
       "3        Jose_Sola_  \n",
       "4        bertinha84  \n",
       "5   Apiuxtecnologia  \n",
       "6      PyDataMadrid  \n",
       "7           diegodl  \n",
       "8          graphext  \n",
       "9         BiohubVLC  \n",
       "10           COITCV  \n",
       "11      raulcotrina  \n",
       "12     AnaWhitewolf  \n",
       "13   LaSenioenRadio  \n",
       "14        sanhuerga  \n",
       "15  innovation_news  \n",
       "16       Fujitsu_ES  "
      ]
     },
     "execution_count": 17,
     "metadata": {},
     "output_type": "execute_result"
    }
   ],
   "source": [
    "sql_query(query_match)"
   ]
  },
  {
   "cell_type": "code",
   "execution_count": null,
   "metadata": {},
   "outputs": [],
   "source": []
  }
 ],
 "metadata": {
  "kernelspec": {
   "display_name": "Python 3.7.4 64-bit",
   "language": "python",
   "name": "python3"
  },
  "language_info": {
   "codemirror_mode": {
    "name": "ipython",
    "version": 3
   },
   "file_extension": ".py",
   "mimetype": "text/x-python",
   "name": "python",
   "nbconvert_exporter": "python",
   "pygments_lexer": "ipython3",
   "version": "3.7.4"
  },
  "orig_nbformat": 4,
  "vscode": {
   "interpreter": {
    "hash": "aee8b7b246df8f9039afb4144a1f6fd8d2ca17a180786b69acc140d282b71a49"
   }
  }
 },
 "nbformat": 4,
 "nbformat_minor": 2
}
